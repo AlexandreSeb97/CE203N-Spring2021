{
  "nbformat": 4,
  "nbformat_minor": 0,
  "metadata": {
    "colab": {
      "name": "CE203N Final Project - Pearl River.ipynb",
      "provenance": [],
      "collapsed_sections": [],
      "authorship_tag": "ABX9TyNYZaFkkYLW04FIDBVXzigr",
      "include_colab_link": true
    },
    "kernelspec": {
      "display_name": "Python 3",
      "name": "python3"
    },
    "language_info": {
      "name": "python"
    }
  },
  "cells": [
    {
      "cell_type": "markdown",
      "metadata": {
        "id": "view-in-github",
        "colab_type": "text"
      },
      "source": [
        "<a href=\"https://colab.research.google.com/github/AlexandreSeb97/CE203N-Spring2021/blob/main/CE203N_Final_Project_Pearl_River.ipynb\" target=\"_parent\"><img src=\"https://colab.research.google.com/assets/colab-badge.svg\" alt=\"Open In Colab\"/></a>"
      ]
    },
    {
      "cell_type": "markdown",
      "metadata": {
        "id": "6hOWzj1DvHD_"
      },
      "source": [
        "# CE 203N Final Project: Flood Prediction in the Gulf of Mexico\n",
        "###Alexandre Erich Sébastien Georges\n",
        "###UC Berkeley - Spring 2021\n",
        "--------------------------------------------------------------------"
      ]
    },
    {
      "cell_type": "markdown",
      "metadata": {
        "id": "FI5a_DitHNc9"
      },
      "source": [
        "# Code and Data Setup"
      ]
    },
    {
      "cell_type": "markdown",
      "metadata": {
        "id": "OFKFtFuMHAb3"
      },
      "source": [
        "### Importing required libraries"
      ]
    },
    {
      "cell_type": "code",
      "metadata": {
        "colab": {
          "base_uri": "https://localhost:8080/",
          "height": 764
        },
        "id": "6zgDtsQ5dX6s",
        "outputId": "e0795261-6ef2-4289-94c3-eb1059800c2d"
      },
      "source": [
        "!pip install https://github.com/matplotlib/basemap/archive/master.zip\n",
        "!pip install wget\n",
        "\n",
        "import os\n",
        "\n",
        "import pandas as pd\n",
        "import matplotlib.pyplot as plt\n",
        "import math\n",
        "import wget\n",
        "import numpy as np\n",
        "import seaborn as sns\n",
        "import xarray as xr\n",
        "from mpl_toolkits.basemap import Basemap\n",
        "from google.colab import files\n",
        "\n",
        "# Scikit stuff\n",
        "from sklearn.preprocessing import PolynomialFeatures\n",
        "from sklearn.linear_model import LinearRegression\n",
        "from sklearn.pipeline import make_pipeline\n",
        "from sklearn.model_selection import validation_curve\n",
        "from sklearn.preprocessing import StandardScaler\n",
        "from sklearn.ensemble import RandomForestRegressor\n",
        "from sklearn.neural_network import MLPClassifier\n",
        "from sklearn import ensemble \n",
        "from sklearn.model_selection import GridSearchCV \n",
        "\n",
        "#Scikit metrics\n",
        "from sklearn.metrics import mean_absolute_error, r2_score"
      ],
      "execution_count": null,
      "outputs": [
        {
          "output_type": "stream",
          "text": [
            "Collecting https://github.com/matplotlib/basemap/archive/master.zip\n",
            "\u001b[?25l  Downloading https://github.com/matplotlib/basemap/archive/master.zip\n",
            "\u001b[K     / 149.3MB 1.3MB/s\n",
            "\u001b[?25hRequirement already satisfied: matplotlib!=3.0.1,>=1.0.0 in /usr/local/lib/python3.7/dist-packages (from basemap==1.2.2+dev) (3.2.2)\n",
            "Requirement already satisfied: numpy>=1.2.1 in /usr/local/lib/python3.7/dist-packages (from basemap==1.2.2+dev) (1.19.5)\n",
            "Collecting pyproj>=1.9.3\n",
            "\u001b[?25l  Downloading https://files.pythonhosted.org/packages/b1/72/d52e9ca81caef056062d71991b0e9b1d16af042245627c5d0e4916a36c4f/pyproj-3.0.1-cp37-cp37m-manylinux2010_x86_64.whl (6.5MB)\n",
            "\u001b[K     |████████████████████████████████| 6.5MB 6.6MB/s \n",
            "\u001b[?25hCollecting pyshp>=1.2.0\n",
            "\u001b[?25l  Downloading https://files.pythonhosted.org/packages/38/85/fbf87e7aa55103e0d06af756bdbc15cf821fa580414c23142d60a35d4f85/pyshp-2.1.3.tar.gz (219kB)\n",
            "\u001b[K     |████████████████████████████████| 225kB 37.3MB/s \n",
            "\u001b[?25hRequirement already satisfied: six in /usr/local/lib/python3.7/dist-packages (from basemap==1.2.2+dev) (1.15.0)\n",
            "Requirement already satisfied: python-dateutil>=2.1 in /usr/local/lib/python3.7/dist-packages (from matplotlib!=3.0.1,>=1.0.0->basemap==1.2.2+dev) (2.8.1)\n",
            "Requirement already satisfied: cycler>=0.10 in /usr/local/lib/python3.7/dist-packages (from matplotlib!=3.0.1,>=1.0.0->basemap==1.2.2+dev) (0.10.0)\n",
            "Requirement already satisfied: pyparsing!=2.0.4,!=2.1.2,!=2.1.6,>=2.0.1 in /usr/local/lib/python3.7/dist-packages (from matplotlib!=3.0.1,>=1.0.0->basemap==1.2.2+dev) (2.4.7)\n",
            "Requirement already satisfied: kiwisolver>=1.0.1 in /usr/local/lib/python3.7/dist-packages (from matplotlib!=3.0.1,>=1.0.0->basemap==1.2.2+dev) (1.3.1)\n",
            "Requirement already satisfied: certifi in /usr/local/lib/python3.7/dist-packages (from pyproj>=1.9.3->basemap==1.2.2+dev) (2020.12.5)\n",
            "Building wheels for collected packages: basemap, pyshp\n",
            "  Building wheel for basemap (setup.py) ... \u001b[?25l\u001b[?25hdone\n",
            "  Created wheel for basemap: filename=basemap-1.2.2+dev-cp37-cp37m-linux_x86_64.whl size=121759561 sha256=eaccc4a04b24181c550038b884f9f28dd1525bb635b2ca21030b7074e5c25477\n",
            "  Stored in directory: /tmp/pip-ephem-wheel-cache-j8bw87hk/wheels/98/4a/fc/ce719b75d97e646645c225f3332b1b217536100314922e9572\n",
            "  Building wheel for pyshp (setup.py) ... \u001b[?25l\u001b[?25hdone\n",
            "  Created wheel for pyshp: filename=pyshp-2.1.3-cp37-none-any.whl size=37264 sha256=51209d91ff33bb194108c1760676b968fd35ba94a139bbbb9afc1f3a672ccfc4\n",
            "  Stored in directory: /root/.cache/pip/wheels/76/2b/d4/53e6b9a0fb0a9f9f29664cf82605af8bc81d5ab44d987896dd\n",
            "Successfully built basemap pyshp\n",
            "Installing collected packages: pyproj, pyshp, basemap\n",
            "Successfully installed basemap-1.2.2+dev pyproj-3.0.1 pyshp-2.1.3\n"
          ],
          "name": "stdout"
        },
        {
          "output_type": "display_data",
          "data": {
            "application/vnd.colab-display-data+json": {
              "pip_warning": {
                "packages": [
                  "mpl_toolkits"
                ]
              }
            }
          },
          "metadata": {
            "tags": []
          }
        },
        {
          "output_type": "stream",
          "text": [
            "Collecting wget\n",
            "  Downloading https://files.pythonhosted.org/packages/47/6a/62e288da7bcda82b935ff0c6cfe542970f04e29c756b0e147251b2fb251f/wget-3.2.zip\n",
            "Building wheels for collected packages: wget\n",
            "  Building wheel for wget (setup.py) ... \u001b[?25l\u001b[?25hdone\n",
            "  Created wheel for wget: filename=wget-3.2-cp37-none-any.whl size=9681 sha256=38cf5143bd59573990347003986651cb97075220306ffa67add5583637d27791\n",
            "  Stored in directory: /root/.cache/pip/wheels/40/15/30/7d8f7cea2902b4db79e3fea550d7d7b85ecb27ef992b618f3f\n",
            "Successfully built wget\n",
            "Installing collected packages: wget\n",
            "Successfully installed wget-3.2\n"
          ],
          "name": "stdout"
        }
      ]
    },
    {
      "cell_type": "markdown",
      "metadata": {
        "id": "JAXva5w84qaQ"
      },
      "source": [
        "### Downloading streamflow data from USGS Water Services and importing in Dataframe"
      ]
    },
    {
      "cell_type": "code",
      "metadata": {
        "colab": {
          "base_uri": "https://localhost:8080/"
        },
        "id": "FV9a-1xn5AUh",
        "outputId": "2e4ab7ee-40a2-4678-ef8e-a5fdb384ae49"
      },
      "source": [
        "stationID = '08065350'\n",
        "start_date = '1988-05-11'\n",
        "end_date = '2021-05-02'\n",
        "filename = 'usgs.txt'\n",
        "# old = https://nwis.waterdata.usgs.gov/nwis/dv?cb_00060=on&cb_00065=on&cb_00095=on&format=rdb&site_no=08065350&referred_module=sw&period=&begin_date=1985-01-01&end_date=2021-05-02\n",
        "\n",
        "!wget -O usgs.txt \"https://waterdata.usgs.gov/nwis/dv?cb_00045=on&cb_00060=on&cb_00065=on&format=rdb&site_no=02481880&referred_module=sw&period=&begin_date=1980-01-01&end_date=2021-05-02\"\n"
      ],
      "execution_count": null,
      "outputs": [
        {
          "output_type": "stream",
          "text": [
            "--2021-05-06 03:32:02--  https://waterdata.usgs.gov/nwis/dv?cb_00045=on&cb_00060=on&cb_00065=on&format=rdb&site_no=02481880&referred_module=sw&period=&begin_date=1980-01-01&end_date=2021-05-02\n",
            "Resolving waterdata.usgs.gov (waterdata.usgs.gov)... 137.227.235.122, 137.227.235.123, 137.227.241.67, ...\n",
            "Connecting to waterdata.usgs.gov (waterdata.usgs.gov)|137.227.235.122|:443... connected.\n",
            "HTTP request sent, awaiting response... 200 OK\n",
            "Length: unspecified [text/plain]\n",
            "Saving to: ‘usgs.txt’\n",
            "\n",
            "usgs.txt                [    <=>             ] 580.57K   349KB/s    in 1.7s    \n",
            "\n",
            "2021-05-06 03:32:05 (349 KB/s) - ‘usgs.txt’ saved [594501]\n",
            "\n"
          ],
          "name": "stdout"
        }
      ]
    },
    {
      "cell_type": "code",
      "metadata": {
        "colab": {
          "base_uri": "https://localhost:8080/",
          "height": 576
        },
        "id": "Oc6P2Z9o-fy7",
        "outputId": "0cdb5e08-a38d-46c1-892e-e62ddee2ea15"
      },
      "source": [
        "df = pd.read_csv(filename, sep='\\t', skiprows=31)\n",
        "stage = 13 # Use site no to pull floodstage on the fly for other sites from https://waterwatch.usgs.gov/index.php?id=flood&sid=w__table&r=tx\n",
        "trinity = 41\n",
        "df"
      ],
      "execution_count": null,
      "outputs": [
        {
          "output_type": "execute_result",
          "data": {
            "text/html": [
              "<div>\n",
              "<style scoped>\n",
              "    .dataframe tbody tr th:only-of-type {\n",
              "        vertical-align: middle;\n",
              "    }\n",
              "\n",
              "    .dataframe tbody tr th {\n",
              "        vertical-align: top;\n",
              "    }\n",
              "\n",
              "    .dataframe thead th {\n",
              "        text-align: right;\n",
              "    }\n",
              "</style>\n",
              "<table border=\"1\" class=\"dataframe\">\n",
              "  <thead>\n",
              "    <tr style=\"text-align: right;\">\n",
              "      <th></th>\n",
              "      <th>agency_cd</th>\n",
              "      <th>site_no</th>\n",
              "      <th>datetime</th>\n",
              "      <th>163808_00045_00006</th>\n",
              "      <th>163808_00045_00006_cd</th>\n",
              "      <th>78724_00065_00003</th>\n",
              "      <th>78724_00065_00003_cd</th>\n",
              "      <th>78725_00060_00003</th>\n",
              "      <th>78725_00060_00003_cd</th>\n",
              "    </tr>\n",
              "  </thead>\n",
              "  <tbody>\n",
              "    <tr>\n",
              "      <th>0</th>\n",
              "      <td>5s</td>\n",
              "      <td>15s</td>\n",
              "      <td>20d</td>\n",
              "      <td>14n</td>\n",
              "      <td>10s</td>\n",
              "      <td>14n</td>\n",
              "      <td>10s</td>\n",
              "      <td>14n</td>\n",
              "      <td>10s</td>\n",
              "    </tr>\n",
              "    <tr>\n",
              "      <th>1</th>\n",
              "      <td>USGS</td>\n",
              "      <td>02481880</td>\n",
              "      <td>1980-12-30</td>\n",
              "      <td>NaN</td>\n",
              "      <td>NaN</td>\n",
              "      <td>NaN</td>\n",
              "      <td>NaN</td>\n",
              "      <td>103</td>\n",
              "      <td>A</td>\n",
              "    </tr>\n",
              "    <tr>\n",
              "      <th>2</th>\n",
              "      <td>USGS</td>\n",
              "      <td>02481880</td>\n",
              "      <td>1980-12-31</td>\n",
              "      <td>NaN</td>\n",
              "      <td>NaN</td>\n",
              "      <td>NaN</td>\n",
              "      <td>NaN</td>\n",
              "      <td>101</td>\n",
              "      <td>A</td>\n",
              "    </tr>\n",
              "    <tr>\n",
              "      <th>3</th>\n",
              "      <td>USGS</td>\n",
              "      <td>02481880</td>\n",
              "      <td>1981-01-01</td>\n",
              "      <td>NaN</td>\n",
              "      <td>NaN</td>\n",
              "      <td>NaN</td>\n",
              "      <td>NaN</td>\n",
              "      <td>95.0</td>\n",
              "      <td>A</td>\n",
              "    </tr>\n",
              "    <tr>\n",
              "      <th>4</th>\n",
              "      <td>USGS</td>\n",
              "      <td>02481880</td>\n",
              "      <td>1981-01-02</td>\n",
              "      <td>NaN</td>\n",
              "      <td>NaN</td>\n",
              "      <td>NaN</td>\n",
              "      <td>NaN</td>\n",
              "      <td>88.0</td>\n",
              "      <td>A</td>\n",
              "    </tr>\n",
              "    <tr>\n",
              "      <th>...</th>\n",
              "      <td>...</td>\n",
              "      <td>...</td>\n",
              "      <td>...</td>\n",
              "      <td>...</td>\n",
              "      <td>...</td>\n",
              "      <td>...</td>\n",
              "      <td>...</td>\n",
              "      <td>...</td>\n",
              "      <td>...</td>\n",
              "    </tr>\n",
              "    <tr>\n",
              "      <th>14730</th>\n",
              "      <td>USGS</td>\n",
              "      <td>02481880</td>\n",
              "      <td>2021-04-28</td>\n",
              "      <td>0.00</td>\n",
              "      <td>P</td>\n",
              "      <td>11.93</td>\n",
              "      <td>P</td>\n",
              "      <td>1000</td>\n",
              "      <td>P</td>\n",
              "    </tr>\n",
              "    <tr>\n",
              "      <th>14731</th>\n",
              "      <td>USGS</td>\n",
              "      <td>02481880</td>\n",
              "      <td>2021-04-29</td>\n",
              "      <td>0.00</td>\n",
              "      <td>P</td>\n",
              "      <td>11.73</td>\n",
              "      <td>P</td>\n",
              "      <td>947</td>\n",
              "      <td>P</td>\n",
              "    </tr>\n",
              "    <tr>\n",
              "      <th>14732</th>\n",
              "      <td>USGS</td>\n",
              "      <td>02481880</td>\n",
              "      <td>2021-04-30</td>\n",
              "      <td>0.00</td>\n",
              "      <td>P</td>\n",
              "      <td>11.43</td>\n",
              "      <td>P</td>\n",
              "      <td>867</td>\n",
              "      <td>P</td>\n",
              "    </tr>\n",
              "    <tr>\n",
              "      <th>14733</th>\n",
              "      <td>USGS</td>\n",
              "      <td>02481880</td>\n",
              "      <td>2021-05-01</td>\n",
              "      <td>0.00</td>\n",
              "      <td>P</td>\n",
              "      <td>10.88</td>\n",
              "      <td>P</td>\n",
              "      <td>732</td>\n",
              "      <td>P</td>\n",
              "    </tr>\n",
              "    <tr>\n",
              "      <th>14734</th>\n",
              "      <td>USGS</td>\n",
              "      <td>02481880</td>\n",
              "      <td>2021-05-02</td>\n",
              "      <td>0.30</td>\n",
              "      <td>P</td>\n",
              "      <td>10.03</td>\n",
              "      <td>P</td>\n",
              "      <td>546</td>\n",
              "      <td>P</td>\n",
              "    </tr>\n",
              "  </tbody>\n",
              "</table>\n",
              "<p>14735 rows × 9 columns</p>\n",
              "</div>"
            ],
            "text/plain": [
              "      agency_cd   site_no  ... 78725_00060_00003 78725_00060_00003_cd\n",
              "0            5s       15s  ...               14n                  10s\n",
              "1          USGS  02481880  ...               103                    A\n",
              "2          USGS  02481880  ...               101                    A\n",
              "3          USGS  02481880  ...              95.0                    A\n",
              "4          USGS  02481880  ...              88.0                    A\n",
              "...         ...       ...  ...               ...                  ...\n",
              "14730      USGS  02481880  ...              1000                    P\n",
              "14731      USGS  02481880  ...               947                    P\n",
              "14732      USGS  02481880  ...               867                    P\n",
              "14733      USGS  02481880  ...               732                    P\n",
              "14734      USGS  02481880  ...               546                    P\n",
              "\n",
              "[14735 rows x 9 columns]"
            ]
          },
          "metadata": {
            "tags": []
          },
          "execution_count": 8
        }
      ]
    },
    {
      "cell_type": "markdown",
      "metadata": {
        "id": "SNxO7wuvzvJY"
      },
      "source": [
        "### Getting NOAA Precipitation Data and importing in Dataframe\n"
      ]
    },
    {
      "cell_type": "code",
      "metadata": {
        "colab": {
          "resources": {
            "http://localhost:8080/nbextensions/google.colab/files.js": {
              "data": "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",
              "headers": [
                [
                  "content-type",
                  "application/javascript"
                ]
              ],
              "ok": true,
              "status": 200,
              "status_text": ""
            }
          },
          "base_uri": "https://localhost:8080/",
          "height": 73
        },
        "id": "-rcjIiTG5U0D",
        "outputId": "395c30f8-43bc-4370-81f4-4f3bb85648fd"
      },
      "source": [
        "uploaded = files.upload()"
      ],
      "execution_count": null,
      "outputs": [
        {
          "output_type": "display_data",
          "data": {
            "text/html": [
              "\n",
              "     <input type=\"file\" id=\"files-9e8dd431-0c0f-4841-a1b3-23edb4cc86af\" name=\"files[]\" multiple disabled\n",
              "        style=\"border:none\" />\n",
              "     <output id=\"result-9e8dd431-0c0f-4841-a1b3-23edb4cc86af\">\n",
              "      Upload widget is only available when the cell has been executed in the\n",
              "      current browser session. Please rerun this cell to enable.\n",
              "      </output>\n",
              "      <script src=\"/nbextensions/google.colab/files.js\"></script> "
            ],
            "text/plain": [
              "<IPython.core.display.HTML object>"
            ]
          },
          "metadata": {
            "tags": []
          }
        },
        {
          "output_type": "stream",
          "text": [
            "Saving climate_pearl.csv to climate_pearl.csv\n"
          ],
          "name": "stdout"
        }
      ]
    },
    {
      "cell_type": "code",
      "metadata": {
        "colab": {
          "base_uri": "https://localhost:8080/",
          "height": 676
        },
        "id": "rCybLHbRzyrO",
        "outputId": "13ebdb08-40e0-4777-8ff5-bcf808890744"
      },
      "source": [
        "filename = 'climate_pearl.csv'\n",
        "df_prec = pd.read_csv(filename)\n",
        "df_prec"
      ],
      "execution_count": null,
      "outputs": [
        {
          "output_type": "execute_result",
          "data": {
            "text/html": [
              "<div>\n",
              "<style scoped>\n",
              "    .dataframe tbody tr th:only-of-type {\n",
              "        vertical-align: middle;\n",
              "    }\n",
              "\n",
              "    .dataframe tbody tr th {\n",
              "        vertical-align: top;\n",
              "    }\n",
              "\n",
              "    .dataframe thead th {\n",
              "        text-align: right;\n",
              "    }\n",
              "</style>\n",
              "<table border=\"1\" class=\"dataframe\">\n",
              "  <thead>\n",
              "    <tr style=\"text-align: right;\">\n",
              "      <th></th>\n",
              "      <th>STATION</th>\n",
              "      <th>NAME</th>\n",
              "      <th>LATITUDE</th>\n",
              "      <th>LONGITUDE</th>\n",
              "      <th>ELEVATION</th>\n",
              "      <th>DATE</th>\n",
              "      <th>DAPR</th>\n",
              "      <th>DAPR_ATTRIBUTES</th>\n",
              "      <th>MDPR</th>\n",
              "      <th>MDPR_ATTRIBUTES</th>\n",
              "      <th>PRCP</th>\n",
              "      <th>PRCP_ATTRIBUTES</th>\n",
              "      <th>SNOW</th>\n",
              "      <th>SNOW_ATTRIBUTES</th>\n",
              "      <th>SNWD</th>\n",
              "      <th>SNWD_ATTRIBUTES</th>\n",
              "      <th>TMAX</th>\n",
              "      <th>TMAX_ATTRIBUTES</th>\n",
              "      <th>TMIN</th>\n",
              "      <th>TMIN_ATTRIBUTES</th>\n",
              "      <th>TOBS</th>\n",
              "      <th>TOBS_ATTRIBUTES</th>\n",
              "      <th>WESD</th>\n",
              "      <th>WESD_ATTRIBUTES</th>\n",
              "    </tr>\n",
              "  </thead>\n",
              "  <tbody>\n",
              "    <tr>\n",
              "      <th>0</th>\n",
              "      <td>USC00225247</td>\n",
              "      <td>LOUISVILLE, MS US</td>\n",
              "      <td>33.13550</td>\n",
              "      <td>-89.07110</td>\n",
              "      <td>177.1</td>\n",
              "      <td>1980-01-01</td>\n",
              "      <td>NaN</td>\n",
              "      <td>NaN</td>\n",
              "      <td>NaN</td>\n",
              "      <td>NaN</td>\n",
              "      <td>0.00</td>\n",
              "      <td>,,0,0800</td>\n",
              "      <td>0.0</td>\n",
              "      <td>,,0</td>\n",
              "      <td>0.0</td>\n",
              "      <td>,,0</td>\n",
              "      <td>45.0</td>\n",
              "      <td>,,0</td>\n",
              "      <td>32.0</td>\n",
              "      <td>,,0</td>\n",
              "      <td>32.0</td>\n",
              "      <td>,,0,0800</td>\n",
              "      <td>NaN</td>\n",
              "      <td>NaN</td>\n",
              "    </tr>\n",
              "    <tr>\n",
              "      <th>1</th>\n",
              "      <td>USC00225247</td>\n",
              "      <td>LOUISVILLE, MS US</td>\n",
              "      <td>33.13550</td>\n",
              "      <td>-89.07110</td>\n",
              "      <td>177.1</td>\n",
              "      <td>1980-01-02</td>\n",
              "      <td>NaN</td>\n",
              "      <td>NaN</td>\n",
              "      <td>NaN</td>\n",
              "      <td>NaN</td>\n",
              "      <td>0.00</td>\n",
              "      <td>,,0,0800</td>\n",
              "      <td>0.0</td>\n",
              "      <td>,,0</td>\n",
              "      <td>0.0</td>\n",
              "      <td>,,0</td>\n",
              "      <td>53.0</td>\n",
              "      <td>,,0</td>\n",
              "      <td>28.0</td>\n",
              "      <td>,,0</td>\n",
              "      <td>30.0</td>\n",
              "      <td>,,0,0800</td>\n",
              "      <td>NaN</td>\n",
              "      <td>NaN</td>\n",
              "    </tr>\n",
              "    <tr>\n",
              "      <th>2</th>\n",
              "      <td>USC00225247</td>\n",
              "      <td>LOUISVILLE, MS US</td>\n",
              "      <td>33.13550</td>\n",
              "      <td>-89.07110</td>\n",
              "      <td>177.1</td>\n",
              "      <td>1980-01-03</td>\n",
              "      <td>NaN</td>\n",
              "      <td>NaN</td>\n",
              "      <td>NaN</td>\n",
              "      <td>NaN</td>\n",
              "      <td>0.00</td>\n",
              "      <td>,,0,0800</td>\n",
              "      <td>0.0</td>\n",
              "      <td>,,0</td>\n",
              "      <td>0.0</td>\n",
              "      <td>,,0</td>\n",
              "      <td>58.0</td>\n",
              "      <td>,,0</td>\n",
              "      <td>30.0</td>\n",
              "      <td>,,0</td>\n",
              "      <td>35.0</td>\n",
              "      <td>,,0,0800</td>\n",
              "      <td>NaN</td>\n",
              "      <td>NaN</td>\n",
              "    </tr>\n",
              "    <tr>\n",
              "      <th>3</th>\n",
              "      <td>USC00225247</td>\n",
              "      <td>LOUISVILLE, MS US</td>\n",
              "      <td>33.13550</td>\n",
              "      <td>-89.07110</td>\n",
              "      <td>177.1</td>\n",
              "      <td>1980-01-04</td>\n",
              "      <td>NaN</td>\n",
              "      <td>NaN</td>\n",
              "      <td>NaN</td>\n",
              "      <td>NaN</td>\n",
              "      <td>0.55</td>\n",
              "      <td>,,0,0800</td>\n",
              "      <td>0.0</td>\n",
              "      <td>,,0</td>\n",
              "      <td>0.0</td>\n",
              "      <td>,,0</td>\n",
              "      <td>56.0</td>\n",
              "      <td>,,0</td>\n",
              "      <td>32.0</td>\n",
              "      <td>,,0</td>\n",
              "      <td>32.0</td>\n",
              "      <td>,,0,0800</td>\n",
              "      <td>NaN</td>\n",
              "      <td>NaN</td>\n",
              "    </tr>\n",
              "    <tr>\n",
              "      <th>4</th>\n",
              "      <td>USC00225247</td>\n",
              "      <td>LOUISVILLE, MS US</td>\n",
              "      <td>33.13550</td>\n",
              "      <td>-89.07110</td>\n",
              "      <td>177.1</td>\n",
              "      <td>1980-01-05</td>\n",
              "      <td>NaN</td>\n",
              "      <td>NaN</td>\n",
              "      <td>NaN</td>\n",
              "      <td>NaN</td>\n",
              "      <td>0.00</td>\n",
              "      <td>,,0,0800</td>\n",
              "      <td>0.0</td>\n",
              "      <td>,,0</td>\n",
              "      <td>0.0</td>\n",
              "      <td>,,0</td>\n",
              "      <td>36.0</td>\n",
              "      <td>,,0</td>\n",
              "      <td>26.0</td>\n",
              "      <td>,,0</td>\n",
              "      <td>29.0</td>\n",
              "      <td>,,0,0800</td>\n",
              "      <td>NaN</td>\n",
              "      <td>NaN</td>\n",
              "    </tr>\n",
              "    <tr>\n",
              "      <th>...</th>\n",
              "      <td>...</td>\n",
              "      <td>...</td>\n",
              "      <td>...</td>\n",
              "      <td>...</td>\n",
              "      <td>...</td>\n",
              "      <td>...</td>\n",
              "      <td>...</td>\n",
              "      <td>...</td>\n",
              "      <td>...</td>\n",
              "      <td>...</td>\n",
              "      <td>...</td>\n",
              "      <td>...</td>\n",
              "      <td>...</td>\n",
              "      <td>...</td>\n",
              "      <td>...</td>\n",
              "      <td>...</td>\n",
              "      <td>...</td>\n",
              "      <td>...</td>\n",
              "      <td>...</td>\n",
              "      <td>...</td>\n",
              "      <td>...</td>\n",
              "      <td>...</td>\n",
              "      <td>...</td>\n",
              "      <td>...</td>\n",
              "    </tr>\n",
              "    <tr>\n",
              "      <th>30746</th>\n",
              "      <td>US1MSWN0002</td>\n",
              "      <td>NOXAPATER 3.3 WSW, MS US</td>\n",
              "      <td>32.97507</td>\n",
              "      <td>-89.11696</td>\n",
              "      <td>145.1</td>\n",
              "      <td>2021-02-11</td>\n",
              "      <td>NaN</td>\n",
              "      <td>NaN</td>\n",
              "      <td>NaN</td>\n",
              "      <td>NaN</td>\n",
              "      <td>0.22</td>\n",
              "      <td>,,N</td>\n",
              "      <td>NaN</td>\n",
              "      <td>NaN</td>\n",
              "      <td>NaN</td>\n",
              "      <td>NaN</td>\n",
              "      <td>NaN</td>\n",
              "      <td>NaN</td>\n",
              "      <td>NaN</td>\n",
              "      <td>NaN</td>\n",
              "      <td>NaN</td>\n",
              "      <td>NaN</td>\n",
              "      <td>NaN</td>\n",
              "      <td>NaN</td>\n",
              "    </tr>\n",
              "    <tr>\n",
              "      <th>30747</th>\n",
              "      <td>US1MSWN0002</td>\n",
              "      <td>NOXAPATER 3.3 WSW, MS US</td>\n",
              "      <td>32.97507</td>\n",
              "      <td>-89.11696</td>\n",
              "      <td>145.1</td>\n",
              "      <td>2021-02-12</td>\n",
              "      <td>NaN</td>\n",
              "      <td>NaN</td>\n",
              "      <td>NaN</td>\n",
              "      <td>NaN</td>\n",
              "      <td>0.29</td>\n",
              "      <td>,,N</td>\n",
              "      <td>NaN</td>\n",
              "      <td>NaN</td>\n",
              "      <td>NaN</td>\n",
              "      <td>NaN</td>\n",
              "      <td>NaN</td>\n",
              "      <td>NaN</td>\n",
              "      <td>NaN</td>\n",
              "      <td>NaN</td>\n",
              "      <td>NaN</td>\n",
              "      <td>NaN</td>\n",
              "      <td>NaN</td>\n",
              "      <td>NaN</td>\n",
              "    </tr>\n",
              "    <tr>\n",
              "      <th>30748</th>\n",
              "      <td>US1MSWN0002</td>\n",
              "      <td>NOXAPATER 3.3 WSW, MS US</td>\n",
              "      <td>32.97507</td>\n",
              "      <td>-89.11696</td>\n",
              "      <td>145.1</td>\n",
              "      <td>2021-02-13</td>\n",
              "      <td>NaN</td>\n",
              "      <td>NaN</td>\n",
              "      <td>NaN</td>\n",
              "      <td>NaN</td>\n",
              "      <td>0.32</td>\n",
              "      <td>,,N</td>\n",
              "      <td>NaN</td>\n",
              "      <td>NaN</td>\n",
              "      <td>NaN</td>\n",
              "      <td>NaN</td>\n",
              "      <td>NaN</td>\n",
              "      <td>NaN</td>\n",
              "      <td>NaN</td>\n",
              "      <td>NaN</td>\n",
              "      <td>NaN</td>\n",
              "      <td>NaN</td>\n",
              "      <td>NaN</td>\n",
              "      <td>NaN</td>\n",
              "    </tr>\n",
              "    <tr>\n",
              "      <th>30749</th>\n",
              "      <td>US1MSWN0002</td>\n",
              "      <td>NOXAPATER 3.3 WSW, MS US</td>\n",
              "      <td>32.97507</td>\n",
              "      <td>-89.11696</td>\n",
              "      <td>145.1</td>\n",
              "      <td>2021-02-14</td>\n",
              "      <td>NaN</td>\n",
              "      <td>NaN</td>\n",
              "      <td>NaN</td>\n",
              "      <td>NaN</td>\n",
              "      <td>0.00</td>\n",
              "      <td>,,N</td>\n",
              "      <td>0.0</td>\n",
              "      <td>,,N</td>\n",
              "      <td>NaN</td>\n",
              "      <td>NaN</td>\n",
              "      <td>NaN</td>\n",
              "      <td>NaN</td>\n",
              "      <td>NaN</td>\n",
              "      <td>NaN</td>\n",
              "      <td>NaN</td>\n",
              "      <td>NaN</td>\n",
              "      <td>NaN</td>\n",
              "      <td>NaN</td>\n",
              "    </tr>\n",
              "    <tr>\n",
              "      <th>30750</th>\n",
              "      <td>US1MSWN0002</td>\n",
              "      <td>NOXAPATER 3.3 WSW, MS US</td>\n",
              "      <td>32.97507</td>\n",
              "      <td>-89.11696</td>\n",
              "      <td>145.1</td>\n",
              "      <td>2021-02-15</td>\n",
              "      <td>NaN</td>\n",
              "      <td>NaN</td>\n",
              "      <td>NaN</td>\n",
              "      <td>NaN</td>\n",
              "      <td>0.17</td>\n",
              "      <td>,,N</td>\n",
              "      <td>NaN</td>\n",
              "      <td>NaN</td>\n",
              "      <td>NaN</td>\n",
              "      <td>NaN</td>\n",
              "      <td>NaN</td>\n",
              "      <td>NaN</td>\n",
              "      <td>NaN</td>\n",
              "      <td>NaN</td>\n",
              "      <td>NaN</td>\n",
              "      <td>NaN</td>\n",
              "      <td>NaN</td>\n",
              "      <td>NaN</td>\n",
              "    </tr>\n",
              "  </tbody>\n",
              "</table>\n",
              "<p>30751 rows × 24 columns</p>\n",
              "</div>"
            ],
            "text/plain": [
              "           STATION                      NAME  ...  WESD  WESD_ATTRIBUTES\n",
              "0      USC00225247         LOUISVILLE, MS US  ...   NaN              NaN\n",
              "1      USC00225247         LOUISVILLE, MS US  ...   NaN              NaN\n",
              "2      USC00225247         LOUISVILLE, MS US  ...   NaN              NaN\n",
              "3      USC00225247         LOUISVILLE, MS US  ...   NaN              NaN\n",
              "4      USC00225247         LOUISVILLE, MS US  ...   NaN              NaN\n",
              "...            ...                       ...  ...   ...              ...\n",
              "30746  US1MSWN0002  NOXAPATER 3.3 WSW, MS US  ...   NaN              NaN\n",
              "30747  US1MSWN0002  NOXAPATER 3.3 WSW, MS US  ...   NaN              NaN\n",
              "30748  US1MSWN0002  NOXAPATER 3.3 WSW, MS US  ...   NaN              NaN\n",
              "30749  US1MSWN0002  NOXAPATER 3.3 WSW, MS US  ...   NaN              NaN\n",
              "30750  US1MSWN0002  NOXAPATER 3.3 WSW, MS US  ...   NaN              NaN\n",
              "\n",
              "[30751 rows x 24 columns]"
            ]
          },
          "metadata": {
            "tags": []
          },
          "execution_count": 10
        }
      ]
    },
    {
      "cell_type": "markdown",
      "metadata": {
        "id": "cJhgowcEHTGF"
      },
      "source": [
        "## Data Cleanup and Merge"
      ]
    },
    {
      "cell_type": "markdown",
      "metadata": {
        "id": "Dj0fwJJBB2af"
      },
      "source": [
        "### USGS Cleanup "
      ]
    },
    {
      "cell_type": "markdown",
      "metadata": {
        "id": "_cKXrE4qwOYA"
      },
      "source": [
        "Renaming Columns and dropping row 0 for easier data manipulation"
      ]
    },
    {
      "cell_type": "code",
      "metadata": {
        "colab": {
          "base_uri": "https://localhost:8080/",
          "height": 406
        },
        "id": "UIEMKVcN_vml",
        "outputId": "4c6f83e6-5c13-4c5e-a3e1-f478fcf23ae7"
      },
      "source": [
        "df = df.rename(columns={'78725_00060_00003': 'DISCH'})\n",
        "df = df.rename(columns={'78724_00065_00003': 'GAGE'})\n",
        "df = df.drop(0)\n",
        "df"
      ],
      "execution_count": null,
      "outputs": [
        {
          "output_type": "execute_result",
          "data": {
            "text/html": [
              "<div>\n",
              "<style scoped>\n",
              "    .dataframe tbody tr th:only-of-type {\n",
              "        vertical-align: middle;\n",
              "    }\n",
              "\n",
              "    .dataframe tbody tr th {\n",
              "        vertical-align: top;\n",
              "    }\n",
              "\n",
              "    .dataframe thead th {\n",
              "        text-align: right;\n",
              "    }\n",
              "</style>\n",
              "<table border=\"1\" class=\"dataframe\">\n",
              "  <thead>\n",
              "    <tr style=\"text-align: right;\">\n",
              "      <th></th>\n",
              "      <th>agency_cd</th>\n",
              "      <th>site_no</th>\n",
              "      <th>datetime</th>\n",
              "      <th>163808_00045_00006</th>\n",
              "      <th>163808_00045_00006_cd</th>\n",
              "      <th>GAGE</th>\n",
              "      <th>78724_00065_00003_cd</th>\n",
              "      <th>DISCH</th>\n",
              "      <th>78725_00060_00003_cd</th>\n",
              "    </tr>\n",
              "  </thead>\n",
              "  <tbody>\n",
              "    <tr>\n",
              "      <th>1</th>\n",
              "      <td>USGS</td>\n",
              "      <td>02481880</td>\n",
              "      <td>1980-12-30</td>\n",
              "      <td>NaN</td>\n",
              "      <td>NaN</td>\n",
              "      <td>NaN</td>\n",
              "      <td>NaN</td>\n",
              "      <td>103</td>\n",
              "      <td>A</td>\n",
              "    </tr>\n",
              "    <tr>\n",
              "      <th>2</th>\n",
              "      <td>USGS</td>\n",
              "      <td>02481880</td>\n",
              "      <td>1980-12-31</td>\n",
              "      <td>NaN</td>\n",
              "      <td>NaN</td>\n",
              "      <td>NaN</td>\n",
              "      <td>NaN</td>\n",
              "      <td>101</td>\n",
              "      <td>A</td>\n",
              "    </tr>\n",
              "    <tr>\n",
              "      <th>3</th>\n",
              "      <td>USGS</td>\n",
              "      <td>02481880</td>\n",
              "      <td>1981-01-01</td>\n",
              "      <td>NaN</td>\n",
              "      <td>NaN</td>\n",
              "      <td>NaN</td>\n",
              "      <td>NaN</td>\n",
              "      <td>95.0</td>\n",
              "      <td>A</td>\n",
              "    </tr>\n",
              "    <tr>\n",
              "      <th>4</th>\n",
              "      <td>USGS</td>\n",
              "      <td>02481880</td>\n",
              "      <td>1981-01-02</td>\n",
              "      <td>NaN</td>\n",
              "      <td>NaN</td>\n",
              "      <td>NaN</td>\n",
              "      <td>NaN</td>\n",
              "      <td>88.0</td>\n",
              "      <td>A</td>\n",
              "    </tr>\n",
              "    <tr>\n",
              "      <th>5</th>\n",
              "      <td>USGS</td>\n",
              "      <td>02481880</td>\n",
              "      <td>1981-01-03</td>\n",
              "      <td>NaN</td>\n",
              "      <td>NaN</td>\n",
              "      <td>NaN</td>\n",
              "      <td>NaN</td>\n",
              "      <td>82.0</td>\n",
              "      <td>A</td>\n",
              "    </tr>\n",
              "    <tr>\n",
              "      <th>...</th>\n",
              "      <td>...</td>\n",
              "      <td>...</td>\n",
              "      <td>...</td>\n",
              "      <td>...</td>\n",
              "      <td>...</td>\n",
              "      <td>...</td>\n",
              "      <td>...</td>\n",
              "      <td>...</td>\n",
              "      <td>...</td>\n",
              "    </tr>\n",
              "    <tr>\n",
              "      <th>14730</th>\n",
              "      <td>USGS</td>\n",
              "      <td>02481880</td>\n",
              "      <td>2021-04-28</td>\n",
              "      <td>0.00</td>\n",
              "      <td>P</td>\n",
              "      <td>11.93</td>\n",
              "      <td>P</td>\n",
              "      <td>1000</td>\n",
              "      <td>P</td>\n",
              "    </tr>\n",
              "    <tr>\n",
              "      <th>14731</th>\n",
              "      <td>USGS</td>\n",
              "      <td>02481880</td>\n",
              "      <td>2021-04-29</td>\n",
              "      <td>0.00</td>\n",
              "      <td>P</td>\n",
              "      <td>11.73</td>\n",
              "      <td>P</td>\n",
              "      <td>947</td>\n",
              "      <td>P</td>\n",
              "    </tr>\n",
              "    <tr>\n",
              "      <th>14732</th>\n",
              "      <td>USGS</td>\n",
              "      <td>02481880</td>\n",
              "      <td>2021-04-30</td>\n",
              "      <td>0.00</td>\n",
              "      <td>P</td>\n",
              "      <td>11.43</td>\n",
              "      <td>P</td>\n",
              "      <td>867</td>\n",
              "      <td>P</td>\n",
              "    </tr>\n",
              "    <tr>\n",
              "      <th>14733</th>\n",
              "      <td>USGS</td>\n",
              "      <td>02481880</td>\n",
              "      <td>2021-05-01</td>\n",
              "      <td>0.00</td>\n",
              "      <td>P</td>\n",
              "      <td>10.88</td>\n",
              "      <td>P</td>\n",
              "      <td>732</td>\n",
              "      <td>P</td>\n",
              "    </tr>\n",
              "    <tr>\n",
              "      <th>14734</th>\n",
              "      <td>USGS</td>\n",
              "      <td>02481880</td>\n",
              "      <td>2021-05-02</td>\n",
              "      <td>0.30</td>\n",
              "      <td>P</td>\n",
              "      <td>10.03</td>\n",
              "      <td>P</td>\n",
              "      <td>546</td>\n",
              "      <td>P</td>\n",
              "    </tr>\n",
              "  </tbody>\n",
              "</table>\n",
              "<p>14734 rows × 9 columns</p>\n",
              "</div>"
            ],
            "text/plain": [
              "      agency_cd   site_no  ... DISCH 78725_00060_00003_cd\n",
              "1          USGS  02481880  ...   103                    A\n",
              "2          USGS  02481880  ...   101                    A\n",
              "3          USGS  02481880  ...  95.0                    A\n",
              "4          USGS  02481880  ...  88.0                    A\n",
              "5          USGS  02481880  ...  82.0                    A\n",
              "...         ...       ...  ...   ...                  ...\n",
              "14730      USGS  02481880  ...  1000                    P\n",
              "14731      USGS  02481880  ...   947                    P\n",
              "14732      USGS  02481880  ...   867                    P\n",
              "14733      USGS  02481880  ...   732                    P\n",
              "14734      USGS  02481880  ...   546                    P\n",
              "\n",
              "[14734 rows x 9 columns]"
            ]
          },
          "metadata": {
            "tags": []
          },
          "execution_count": 11
        }
      ]
    },
    {
      "cell_type": "markdown",
      "metadata": {
        "id": "DrbKX7hOwJkv"
      },
      "source": [
        "Changing object types to int, float, str and datetime"
      ]
    },
    {
      "cell_type": "code",
      "metadata": {
        "colab": {
          "base_uri": "https://localhost:8080/"
        },
        "id": "onw-oz_gwFLZ",
        "outputId": "1e9bbe99-9179-42b4-d973-6464c5f3207c"
      },
      "source": [
        "df['datetime'] = pd.to_datetime(df['datetime'], errors='coerce')\n",
        "df['GAGE'] = df['GAGE'].replace(['Ice'], [0])\n",
        "df['GAGE'] = df['GAGE'].astype(float)\n",
        "df['DISCH'] = df['DISCH'].replace(['Ice'], [0])\n",
        "df['DISCH'] = df['DISCH'].astype(float)\n",
        "#df['DISCHMAX'] = df['DISCHMAX'].astype(float)\n",
        "#df['DISCHMIN'] = df['DISCHMIN'].astype(float)\n",
        "df.dtypes"
      ],
      "execution_count": null,
      "outputs": [
        {
          "output_type": "execute_result",
          "data": {
            "text/plain": [
              "agency_cd                        object\n",
              "site_no                          object\n",
              "datetime                 datetime64[ns]\n",
              "163808_00045_00006               object\n",
              "163808_00045_00006_cd            object\n",
              "GAGE                            float64\n",
              "78724_00065_00003_cd             object\n",
              "DISCH                           float64\n",
              "78725_00060_00003_cd             object\n",
              "dtype: object"
            ]
          },
          "metadata": {
            "tags": []
          },
          "execution_count": 12
        }
      ]
    },
    {
      "cell_type": "markdown",
      "metadata": {
        "id": "z9aibCmTt4vc"
      },
      "source": [
        "### NOAA Cleanup"
      ]
    },
    {
      "cell_type": "markdown",
      "metadata": {
        "id": "vIF6b7tXwXZt"
      },
      "source": [
        "Renaming DATE column to datetime"
      ]
    },
    {
      "cell_type": "code",
      "metadata": {
        "colab": {
          "base_uri": "https://localhost:8080/",
          "height": 676
        },
        "id": "eWxqRV5Qt5CE",
        "outputId": "b2723580-6083-4cfa-ad1f-4911c6ea73fb"
      },
      "source": [
        "df_prec = df_prec.rename(columns={'DATE': 'datetime'})\n",
        "df_prec"
      ],
      "execution_count": null,
      "outputs": [
        {
          "output_type": "execute_result",
          "data": {
            "text/html": [
              "<div>\n",
              "<style scoped>\n",
              "    .dataframe tbody tr th:only-of-type {\n",
              "        vertical-align: middle;\n",
              "    }\n",
              "\n",
              "    .dataframe tbody tr th {\n",
              "        vertical-align: top;\n",
              "    }\n",
              "\n",
              "    .dataframe thead th {\n",
              "        text-align: right;\n",
              "    }\n",
              "</style>\n",
              "<table border=\"1\" class=\"dataframe\">\n",
              "  <thead>\n",
              "    <tr style=\"text-align: right;\">\n",
              "      <th></th>\n",
              "      <th>STATION</th>\n",
              "      <th>NAME</th>\n",
              "      <th>LATITUDE</th>\n",
              "      <th>LONGITUDE</th>\n",
              "      <th>ELEVATION</th>\n",
              "      <th>datetime</th>\n",
              "      <th>DAPR</th>\n",
              "      <th>DAPR_ATTRIBUTES</th>\n",
              "      <th>MDPR</th>\n",
              "      <th>MDPR_ATTRIBUTES</th>\n",
              "      <th>PRCP</th>\n",
              "      <th>PRCP_ATTRIBUTES</th>\n",
              "      <th>SNOW</th>\n",
              "      <th>SNOW_ATTRIBUTES</th>\n",
              "      <th>SNWD</th>\n",
              "      <th>SNWD_ATTRIBUTES</th>\n",
              "      <th>TMAX</th>\n",
              "      <th>TMAX_ATTRIBUTES</th>\n",
              "      <th>TMIN</th>\n",
              "      <th>TMIN_ATTRIBUTES</th>\n",
              "      <th>TOBS</th>\n",
              "      <th>TOBS_ATTRIBUTES</th>\n",
              "      <th>WESD</th>\n",
              "      <th>WESD_ATTRIBUTES</th>\n",
              "    </tr>\n",
              "  </thead>\n",
              "  <tbody>\n",
              "    <tr>\n",
              "      <th>0</th>\n",
              "      <td>USC00225247</td>\n",
              "      <td>LOUISVILLE, MS US</td>\n",
              "      <td>33.13550</td>\n",
              "      <td>-89.07110</td>\n",
              "      <td>177.1</td>\n",
              "      <td>1980-01-01</td>\n",
              "      <td>NaN</td>\n",
              "      <td>NaN</td>\n",
              "      <td>NaN</td>\n",
              "      <td>NaN</td>\n",
              "      <td>0.00</td>\n",
              "      <td>,,0,0800</td>\n",
              "      <td>0.0</td>\n",
              "      <td>,,0</td>\n",
              "      <td>0.0</td>\n",
              "      <td>,,0</td>\n",
              "      <td>45.0</td>\n",
              "      <td>,,0</td>\n",
              "      <td>32.0</td>\n",
              "      <td>,,0</td>\n",
              "      <td>32.0</td>\n",
              "      <td>,,0,0800</td>\n",
              "      <td>NaN</td>\n",
              "      <td>NaN</td>\n",
              "    </tr>\n",
              "    <tr>\n",
              "      <th>1</th>\n",
              "      <td>USC00225247</td>\n",
              "      <td>LOUISVILLE, MS US</td>\n",
              "      <td>33.13550</td>\n",
              "      <td>-89.07110</td>\n",
              "      <td>177.1</td>\n",
              "      <td>1980-01-02</td>\n",
              "      <td>NaN</td>\n",
              "      <td>NaN</td>\n",
              "      <td>NaN</td>\n",
              "      <td>NaN</td>\n",
              "      <td>0.00</td>\n",
              "      <td>,,0,0800</td>\n",
              "      <td>0.0</td>\n",
              "      <td>,,0</td>\n",
              "      <td>0.0</td>\n",
              "      <td>,,0</td>\n",
              "      <td>53.0</td>\n",
              "      <td>,,0</td>\n",
              "      <td>28.0</td>\n",
              "      <td>,,0</td>\n",
              "      <td>30.0</td>\n",
              "      <td>,,0,0800</td>\n",
              "      <td>NaN</td>\n",
              "      <td>NaN</td>\n",
              "    </tr>\n",
              "    <tr>\n",
              "      <th>2</th>\n",
              "      <td>USC00225247</td>\n",
              "      <td>LOUISVILLE, MS US</td>\n",
              "      <td>33.13550</td>\n",
              "      <td>-89.07110</td>\n",
              "      <td>177.1</td>\n",
              "      <td>1980-01-03</td>\n",
              "      <td>NaN</td>\n",
              "      <td>NaN</td>\n",
              "      <td>NaN</td>\n",
              "      <td>NaN</td>\n",
              "      <td>0.00</td>\n",
              "      <td>,,0,0800</td>\n",
              "      <td>0.0</td>\n",
              "      <td>,,0</td>\n",
              "      <td>0.0</td>\n",
              "      <td>,,0</td>\n",
              "      <td>58.0</td>\n",
              "      <td>,,0</td>\n",
              "      <td>30.0</td>\n",
              "      <td>,,0</td>\n",
              "      <td>35.0</td>\n",
              "      <td>,,0,0800</td>\n",
              "      <td>NaN</td>\n",
              "      <td>NaN</td>\n",
              "    </tr>\n",
              "    <tr>\n",
              "      <th>3</th>\n",
              "      <td>USC00225247</td>\n",
              "      <td>LOUISVILLE, MS US</td>\n",
              "      <td>33.13550</td>\n",
              "      <td>-89.07110</td>\n",
              "      <td>177.1</td>\n",
              "      <td>1980-01-04</td>\n",
              "      <td>NaN</td>\n",
              "      <td>NaN</td>\n",
              "      <td>NaN</td>\n",
              "      <td>NaN</td>\n",
              "      <td>0.55</td>\n",
              "      <td>,,0,0800</td>\n",
              "      <td>0.0</td>\n",
              "      <td>,,0</td>\n",
              "      <td>0.0</td>\n",
              "      <td>,,0</td>\n",
              "      <td>56.0</td>\n",
              "      <td>,,0</td>\n",
              "      <td>32.0</td>\n",
              "      <td>,,0</td>\n",
              "      <td>32.0</td>\n",
              "      <td>,,0,0800</td>\n",
              "      <td>NaN</td>\n",
              "      <td>NaN</td>\n",
              "    </tr>\n",
              "    <tr>\n",
              "      <th>4</th>\n",
              "      <td>USC00225247</td>\n",
              "      <td>LOUISVILLE, MS US</td>\n",
              "      <td>33.13550</td>\n",
              "      <td>-89.07110</td>\n",
              "      <td>177.1</td>\n",
              "      <td>1980-01-05</td>\n",
              "      <td>NaN</td>\n",
              "      <td>NaN</td>\n",
              "      <td>NaN</td>\n",
              "      <td>NaN</td>\n",
              "      <td>0.00</td>\n",
              "      <td>,,0,0800</td>\n",
              "      <td>0.0</td>\n",
              "      <td>,,0</td>\n",
              "      <td>0.0</td>\n",
              "      <td>,,0</td>\n",
              "      <td>36.0</td>\n",
              "      <td>,,0</td>\n",
              "      <td>26.0</td>\n",
              "      <td>,,0</td>\n",
              "      <td>29.0</td>\n",
              "      <td>,,0,0800</td>\n",
              "      <td>NaN</td>\n",
              "      <td>NaN</td>\n",
              "    </tr>\n",
              "    <tr>\n",
              "      <th>...</th>\n",
              "      <td>...</td>\n",
              "      <td>...</td>\n",
              "      <td>...</td>\n",
              "      <td>...</td>\n",
              "      <td>...</td>\n",
              "      <td>...</td>\n",
              "      <td>...</td>\n",
              "      <td>...</td>\n",
              "      <td>...</td>\n",
              "      <td>...</td>\n",
              "      <td>...</td>\n",
              "      <td>...</td>\n",
              "      <td>...</td>\n",
              "      <td>...</td>\n",
              "      <td>...</td>\n",
              "      <td>...</td>\n",
              "      <td>...</td>\n",
              "      <td>...</td>\n",
              "      <td>...</td>\n",
              "      <td>...</td>\n",
              "      <td>...</td>\n",
              "      <td>...</td>\n",
              "      <td>...</td>\n",
              "      <td>...</td>\n",
              "    </tr>\n",
              "    <tr>\n",
              "      <th>30746</th>\n",
              "      <td>US1MSWN0002</td>\n",
              "      <td>NOXAPATER 3.3 WSW, MS US</td>\n",
              "      <td>32.97507</td>\n",
              "      <td>-89.11696</td>\n",
              "      <td>145.1</td>\n",
              "      <td>2021-02-11</td>\n",
              "      <td>NaN</td>\n",
              "      <td>NaN</td>\n",
              "      <td>NaN</td>\n",
              "      <td>NaN</td>\n",
              "      <td>0.22</td>\n",
              "      <td>,,N</td>\n",
              "      <td>NaN</td>\n",
              "      <td>NaN</td>\n",
              "      <td>NaN</td>\n",
              "      <td>NaN</td>\n",
              "      <td>NaN</td>\n",
              "      <td>NaN</td>\n",
              "      <td>NaN</td>\n",
              "      <td>NaN</td>\n",
              "      <td>NaN</td>\n",
              "      <td>NaN</td>\n",
              "      <td>NaN</td>\n",
              "      <td>NaN</td>\n",
              "    </tr>\n",
              "    <tr>\n",
              "      <th>30747</th>\n",
              "      <td>US1MSWN0002</td>\n",
              "      <td>NOXAPATER 3.3 WSW, MS US</td>\n",
              "      <td>32.97507</td>\n",
              "      <td>-89.11696</td>\n",
              "      <td>145.1</td>\n",
              "      <td>2021-02-12</td>\n",
              "      <td>NaN</td>\n",
              "      <td>NaN</td>\n",
              "      <td>NaN</td>\n",
              "      <td>NaN</td>\n",
              "      <td>0.29</td>\n",
              "      <td>,,N</td>\n",
              "      <td>NaN</td>\n",
              "      <td>NaN</td>\n",
              "      <td>NaN</td>\n",
              "      <td>NaN</td>\n",
              "      <td>NaN</td>\n",
              "      <td>NaN</td>\n",
              "      <td>NaN</td>\n",
              "      <td>NaN</td>\n",
              "      <td>NaN</td>\n",
              "      <td>NaN</td>\n",
              "      <td>NaN</td>\n",
              "      <td>NaN</td>\n",
              "    </tr>\n",
              "    <tr>\n",
              "      <th>30748</th>\n",
              "      <td>US1MSWN0002</td>\n",
              "      <td>NOXAPATER 3.3 WSW, MS US</td>\n",
              "      <td>32.97507</td>\n",
              "      <td>-89.11696</td>\n",
              "      <td>145.1</td>\n",
              "      <td>2021-02-13</td>\n",
              "      <td>NaN</td>\n",
              "      <td>NaN</td>\n",
              "      <td>NaN</td>\n",
              "      <td>NaN</td>\n",
              "      <td>0.32</td>\n",
              "      <td>,,N</td>\n",
              "      <td>NaN</td>\n",
              "      <td>NaN</td>\n",
              "      <td>NaN</td>\n",
              "      <td>NaN</td>\n",
              "      <td>NaN</td>\n",
              "      <td>NaN</td>\n",
              "      <td>NaN</td>\n",
              "      <td>NaN</td>\n",
              "      <td>NaN</td>\n",
              "      <td>NaN</td>\n",
              "      <td>NaN</td>\n",
              "      <td>NaN</td>\n",
              "    </tr>\n",
              "    <tr>\n",
              "      <th>30749</th>\n",
              "      <td>US1MSWN0002</td>\n",
              "      <td>NOXAPATER 3.3 WSW, MS US</td>\n",
              "      <td>32.97507</td>\n",
              "      <td>-89.11696</td>\n",
              "      <td>145.1</td>\n",
              "      <td>2021-02-14</td>\n",
              "      <td>NaN</td>\n",
              "      <td>NaN</td>\n",
              "      <td>NaN</td>\n",
              "      <td>NaN</td>\n",
              "      <td>0.00</td>\n",
              "      <td>,,N</td>\n",
              "      <td>0.0</td>\n",
              "      <td>,,N</td>\n",
              "      <td>NaN</td>\n",
              "      <td>NaN</td>\n",
              "      <td>NaN</td>\n",
              "      <td>NaN</td>\n",
              "      <td>NaN</td>\n",
              "      <td>NaN</td>\n",
              "      <td>NaN</td>\n",
              "      <td>NaN</td>\n",
              "      <td>NaN</td>\n",
              "      <td>NaN</td>\n",
              "    </tr>\n",
              "    <tr>\n",
              "      <th>30750</th>\n",
              "      <td>US1MSWN0002</td>\n",
              "      <td>NOXAPATER 3.3 WSW, MS US</td>\n",
              "      <td>32.97507</td>\n",
              "      <td>-89.11696</td>\n",
              "      <td>145.1</td>\n",
              "      <td>2021-02-15</td>\n",
              "      <td>NaN</td>\n",
              "      <td>NaN</td>\n",
              "      <td>NaN</td>\n",
              "      <td>NaN</td>\n",
              "      <td>0.17</td>\n",
              "      <td>,,N</td>\n",
              "      <td>NaN</td>\n",
              "      <td>NaN</td>\n",
              "      <td>NaN</td>\n",
              "      <td>NaN</td>\n",
              "      <td>NaN</td>\n",
              "      <td>NaN</td>\n",
              "      <td>NaN</td>\n",
              "      <td>NaN</td>\n",
              "      <td>NaN</td>\n",
              "      <td>NaN</td>\n",
              "      <td>NaN</td>\n",
              "      <td>NaN</td>\n",
              "    </tr>\n",
              "  </tbody>\n",
              "</table>\n",
              "<p>30751 rows × 24 columns</p>\n",
              "</div>"
            ],
            "text/plain": [
              "           STATION                      NAME  ...  WESD  WESD_ATTRIBUTES\n",
              "0      USC00225247         LOUISVILLE, MS US  ...   NaN              NaN\n",
              "1      USC00225247         LOUISVILLE, MS US  ...   NaN              NaN\n",
              "2      USC00225247         LOUISVILLE, MS US  ...   NaN              NaN\n",
              "3      USC00225247         LOUISVILLE, MS US  ...   NaN              NaN\n",
              "4      USC00225247         LOUISVILLE, MS US  ...   NaN              NaN\n",
              "...            ...                       ...  ...   ...              ...\n",
              "30746  US1MSWN0002  NOXAPATER 3.3 WSW, MS US  ...   NaN              NaN\n",
              "30747  US1MSWN0002  NOXAPATER 3.3 WSW, MS US  ...   NaN              NaN\n",
              "30748  US1MSWN0002  NOXAPATER 3.3 WSW, MS US  ...   NaN              NaN\n",
              "30749  US1MSWN0002  NOXAPATER 3.3 WSW, MS US  ...   NaN              NaN\n",
              "30750  US1MSWN0002  NOXAPATER 3.3 WSW, MS US  ...   NaN              NaN\n",
              "\n",
              "[30751 rows x 24 columns]"
            ]
          },
          "metadata": {
            "tags": []
          },
          "execution_count": 13
        }
      ]
    },
    {
      "cell_type": "markdown",
      "metadata": {
        "id": "ApkipWCiwx_Z"
      },
      "source": [
        "Changing object types to datetime"
      ]
    },
    {
      "cell_type": "code",
      "metadata": {
        "id": "uk0Snmdrw1bo"
      },
      "source": [
        "df_prec['datetime'] = pd.to_datetime(df_prec['datetime'], errors='coerce')"
      ],
      "execution_count": null,
      "outputs": []
    },
    {
      "cell_type": "markdown",
      "metadata": {
        "id": "Xojs4OeHqVmD"
      },
      "source": [
        "### Merging NOAA and USGS on time and dropping unnecessary columns"
      ]
    },
    {
      "cell_type": "code",
      "metadata": {
        "colab": {
          "base_uri": "https://localhost:8080/",
          "height": 406
        },
        "id": "LrPdbLJqqRvO",
        "outputId": "7891844a-91d5-4b1a-e29b-0d8d79c383c1"
      },
      "source": [
        "newdf = df.merge(df_prec)\n",
        "\n",
        "to_rem = list(newdf)\n",
        "exception = ['datetime', 'GAGE', 'DISCH', 'PRCP', 'SNOW', 'TMIN', 'TMAX', 'NAME', 'STATION', 'site_no']\n",
        "for k in exception:\n",
        "  #print(k)\n",
        "  to_rem.remove(k)\n",
        "\n",
        "newdf = newdf.drop(to_rem, axis=1)\n",
        "newdf['SNOW'] = newdf['SNOW'].fillna(0)\n",
        "newdf"
      ],
      "execution_count": null,
      "outputs": [
        {
          "output_type": "execute_result",
          "data": {
            "text/html": [
              "<div>\n",
              "<style scoped>\n",
              "    .dataframe tbody tr th:only-of-type {\n",
              "        vertical-align: middle;\n",
              "    }\n",
              "\n",
              "    .dataframe tbody tr th {\n",
              "        vertical-align: top;\n",
              "    }\n",
              "\n",
              "    .dataframe thead th {\n",
              "        text-align: right;\n",
              "    }\n",
              "</style>\n",
              "<table border=\"1\" class=\"dataframe\">\n",
              "  <thead>\n",
              "    <tr style=\"text-align: right;\">\n",
              "      <th></th>\n",
              "      <th>site_no</th>\n",
              "      <th>datetime</th>\n",
              "      <th>GAGE</th>\n",
              "      <th>DISCH</th>\n",
              "      <th>STATION</th>\n",
              "      <th>NAME</th>\n",
              "      <th>PRCP</th>\n",
              "      <th>SNOW</th>\n",
              "      <th>TMAX</th>\n",
              "      <th>TMIN</th>\n",
              "    </tr>\n",
              "  </thead>\n",
              "  <tbody>\n",
              "    <tr>\n",
              "      <th>0</th>\n",
              "      <td>02481880</td>\n",
              "      <td>1980-12-30</td>\n",
              "      <td>NaN</td>\n",
              "      <td>103.0</td>\n",
              "      <td>USC00225247</td>\n",
              "      <td>LOUISVILLE, MS US</td>\n",
              "      <td>0.00</td>\n",
              "      <td>0.0</td>\n",
              "      <td>61.0</td>\n",
              "      <td>33.0</td>\n",
              "    </tr>\n",
              "    <tr>\n",
              "      <th>1</th>\n",
              "      <td>02481880</td>\n",
              "      <td>1980-12-30</td>\n",
              "      <td>NaN</td>\n",
              "      <td>103.0</td>\n",
              "      <td>USC00223340</td>\n",
              "      <td>GHOLSON 8 W, MS US</td>\n",
              "      <td>0.00</td>\n",
              "      <td>0.0</td>\n",
              "      <td>NaN</td>\n",
              "      <td>NaN</td>\n",
              "    </tr>\n",
              "    <tr>\n",
              "      <th>2</th>\n",
              "      <td>02481880</td>\n",
              "      <td>1980-12-31</td>\n",
              "      <td>NaN</td>\n",
              "      <td>101.0</td>\n",
              "      <td>USC00225247</td>\n",
              "      <td>LOUISVILLE, MS US</td>\n",
              "      <td>0.00</td>\n",
              "      <td>0.0</td>\n",
              "      <td>48.0</td>\n",
              "      <td>28.0</td>\n",
              "    </tr>\n",
              "    <tr>\n",
              "      <th>3</th>\n",
              "      <td>02481880</td>\n",
              "      <td>1980-12-31</td>\n",
              "      <td>NaN</td>\n",
              "      <td>101.0</td>\n",
              "      <td>USC00223340</td>\n",
              "      <td>GHOLSON 8 W, MS US</td>\n",
              "      <td>0.00</td>\n",
              "      <td>0.0</td>\n",
              "      <td>NaN</td>\n",
              "      <td>NaN</td>\n",
              "    </tr>\n",
              "    <tr>\n",
              "      <th>4</th>\n",
              "      <td>02481880</td>\n",
              "      <td>1981-01-01</td>\n",
              "      <td>NaN</td>\n",
              "      <td>95.0</td>\n",
              "      <td>USC00225247</td>\n",
              "      <td>LOUISVILLE, MS US</td>\n",
              "      <td>0.00</td>\n",
              "      <td>0.0</td>\n",
              "      <td>63.0</td>\n",
              "      <td>35.0</td>\n",
              "    </tr>\n",
              "    <tr>\n",
              "      <th>...</th>\n",
              "      <td>...</td>\n",
              "      <td>...</td>\n",
              "      <td>...</td>\n",
              "      <td>...</td>\n",
              "      <td>...</td>\n",
              "      <td>...</td>\n",
              "      <td>...</td>\n",
              "      <td>...</td>\n",
              "      <td>...</td>\n",
              "      <td>...</td>\n",
              "    </tr>\n",
              "    <tr>\n",
              "      <th>30018</th>\n",
              "      <td>02481880</td>\n",
              "      <td>2021-04-26</td>\n",
              "      <td>11.93</td>\n",
              "      <td>1000.0</td>\n",
              "      <td>US1MSWN0009</td>\n",
              "      <td>LOUISVILLE 8.6 SSE, MS US</td>\n",
              "      <td>0.00</td>\n",
              "      <td>0.0</td>\n",
              "      <td>NaN</td>\n",
              "      <td>NaN</td>\n",
              "    </tr>\n",
              "    <tr>\n",
              "      <th>30019</th>\n",
              "      <td>02481880</td>\n",
              "      <td>2021-04-27</td>\n",
              "      <td>12.25</td>\n",
              "      <td>1100.0</td>\n",
              "      <td>US1MSWN0009</td>\n",
              "      <td>LOUISVILLE 8.6 SSE, MS US</td>\n",
              "      <td>0.00</td>\n",
              "      <td>0.0</td>\n",
              "      <td>NaN</td>\n",
              "      <td>NaN</td>\n",
              "    </tr>\n",
              "    <tr>\n",
              "      <th>30020</th>\n",
              "      <td>02481880</td>\n",
              "      <td>2021-04-28</td>\n",
              "      <td>11.93</td>\n",
              "      <td>1000.0</td>\n",
              "      <td>US1MSWN0009</td>\n",
              "      <td>LOUISVILLE 8.6 SSE, MS US</td>\n",
              "      <td>0.00</td>\n",
              "      <td>0.0</td>\n",
              "      <td>NaN</td>\n",
              "      <td>NaN</td>\n",
              "    </tr>\n",
              "    <tr>\n",
              "      <th>30021</th>\n",
              "      <td>02481880</td>\n",
              "      <td>2021-04-29</td>\n",
              "      <td>11.73</td>\n",
              "      <td>947.0</td>\n",
              "      <td>US1MSWN0009</td>\n",
              "      <td>LOUISVILLE 8.6 SSE, MS US</td>\n",
              "      <td>0.00</td>\n",
              "      <td>0.0</td>\n",
              "      <td>NaN</td>\n",
              "      <td>NaN</td>\n",
              "    </tr>\n",
              "    <tr>\n",
              "      <th>30022</th>\n",
              "      <td>02481880</td>\n",
              "      <td>2021-04-30</td>\n",
              "      <td>11.43</td>\n",
              "      <td>867.0</td>\n",
              "      <td>US1MSWN0009</td>\n",
              "      <td>LOUISVILLE 8.6 SSE, MS US</td>\n",
              "      <td>0.01</td>\n",
              "      <td>0.0</td>\n",
              "      <td>NaN</td>\n",
              "      <td>NaN</td>\n",
              "    </tr>\n",
              "  </tbody>\n",
              "</table>\n",
              "<p>30023 rows × 10 columns</p>\n",
              "</div>"
            ],
            "text/plain": [
              "        site_no   datetime   GAGE   DISCH  ...  PRCP SNOW  TMAX  TMIN\n",
              "0      02481880 1980-12-30    NaN   103.0  ...  0.00  0.0  61.0  33.0\n",
              "1      02481880 1980-12-30    NaN   103.0  ...  0.00  0.0   NaN   NaN\n",
              "2      02481880 1980-12-31    NaN   101.0  ...  0.00  0.0  48.0  28.0\n",
              "3      02481880 1980-12-31    NaN   101.0  ...  0.00  0.0   NaN   NaN\n",
              "4      02481880 1981-01-01    NaN    95.0  ...  0.00  0.0  63.0  35.0\n",
              "...         ...        ...    ...     ...  ...   ...  ...   ...   ...\n",
              "30018  02481880 2021-04-26  11.93  1000.0  ...  0.00  0.0   NaN   NaN\n",
              "30019  02481880 2021-04-27  12.25  1100.0  ...  0.00  0.0   NaN   NaN\n",
              "30020  02481880 2021-04-28  11.93  1000.0  ...  0.00  0.0   NaN   NaN\n",
              "30021  02481880 2021-04-29  11.73   947.0  ...  0.00  0.0   NaN   NaN\n",
              "30022  02481880 2021-04-30  11.43   867.0  ...  0.01  0.0   NaN   NaN\n",
              "\n",
              "[30023 rows x 10 columns]"
            ]
          },
          "metadata": {
            "tags": []
          },
          "execution_count": 15
        }
      ]
    },
    {
      "cell_type": "markdown",
      "metadata": {
        "id": "TiZhb1M_hMOS"
      },
      "source": [
        "Pullin training and testing sets and adding DAY_OF_YEAR for seasonality analysis"
      ]
    },
    {
      "cell_type": "code",
      "metadata": {
        "colab": {
          "base_uri": "https://localhost:8080/",
          "height": 406
        },
        "id": "lJ0-Fi1PhJmO",
        "outputId": "b71e5c76-eb6d-4700-cb6c-d503b7803898"
      },
      "source": [
        "newdf['DAY_OF_YEAR'] = newdf['datetime'].dt.dayofyear\n",
        "train_df = newdf[newdf['datetime'].dt.year <= 2014]\n",
        "test_df = newdf[newdf['datetime'].dt.year > 2014]\n",
        "newdf"
      ],
      "execution_count": null,
      "outputs": [
        {
          "output_type": "execute_result",
          "data": {
            "text/html": [
              "<div>\n",
              "<style scoped>\n",
              "    .dataframe tbody tr th:only-of-type {\n",
              "        vertical-align: middle;\n",
              "    }\n",
              "\n",
              "    .dataframe tbody tr th {\n",
              "        vertical-align: top;\n",
              "    }\n",
              "\n",
              "    .dataframe thead th {\n",
              "        text-align: right;\n",
              "    }\n",
              "</style>\n",
              "<table border=\"1\" class=\"dataframe\">\n",
              "  <thead>\n",
              "    <tr style=\"text-align: right;\">\n",
              "      <th></th>\n",
              "      <th>site_no</th>\n",
              "      <th>datetime</th>\n",
              "      <th>GAGE</th>\n",
              "      <th>DISCH</th>\n",
              "      <th>STATION</th>\n",
              "      <th>NAME</th>\n",
              "      <th>PRCP</th>\n",
              "      <th>SNOW</th>\n",
              "      <th>TMAX</th>\n",
              "      <th>TMIN</th>\n",
              "      <th>DAY_OF_YEAR</th>\n",
              "    </tr>\n",
              "  </thead>\n",
              "  <tbody>\n",
              "    <tr>\n",
              "      <th>0</th>\n",
              "      <td>02481880</td>\n",
              "      <td>1980-12-30</td>\n",
              "      <td>NaN</td>\n",
              "      <td>103.0</td>\n",
              "      <td>USC00225247</td>\n",
              "      <td>LOUISVILLE, MS US</td>\n",
              "      <td>0.00</td>\n",
              "      <td>0.0</td>\n",
              "      <td>61.0</td>\n",
              "      <td>33.0</td>\n",
              "      <td>365</td>\n",
              "    </tr>\n",
              "    <tr>\n",
              "      <th>1</th>\n",
              "      <td>02481880</td>\n",
              "      <td>1980-12-30</td>\n",
              "      <td>NaN</td>\n",
              "      <td>103.0</td>\n",
              "      <td>USC00223340</td>\n",
              "      <td>GHOLSON 8 W, MS US</td>\n",
              "      <td>0.00</td>\n",
              "      <td>0.0</td>\n",
              "      <td>NaN</td>\n",
              "      <td>NaN</td>\n",
              "      <td>365</td>\n",
              "    </tr>\n",
              "    <tr>\n",
              "      <th>2</th>\n",
              "      <td>02481880</td>\n",
              "      <td>1980-12-31</td>\n",
              "      <td>NaN</td>\n",
              "      <td>101.0</td>\n",
              "      <td>USC00225247</td>\n",
              "      <td>LOUISVILLE, MS US</td>\n",
              "      <td>0.00</td>\n",
              "      <td>0.0</td>\n",
              "      <td>48.0</td>\n",
              "      <td>28.0</td>\n",
              "      <td>366</td>\n",
              "    </tr>\n",
              "    <tr>\n",
              "      <th>3</th>\n",
              "      <td>02481880</td>\n",
              "      <td>1980-12-31</td>\n",
              "      <td>NaN</td>\n",
              "      <td>101.0</td>\n",
              "      <td>USC00223340</td>\n",
              "      <td>GHOLSON 8 W, MS US</td>\n",
              "      <td>0.00</td>\n",
              "      <td>0.0</td>\n",
              "      <td>NaN</td>\n",
              "      <td>NaN</td>\n",
              "      <td>366</td>\n",
              "    </tr>\n",
              "    <tr>\n",
              "      <th>4</th>\n",
              "      <td>02481880</td>\n",
              "      <td>1981-01-01</td>\n",
              "      <td>NaN</td>\n",
              "      <td>95.0</td>\n",
              "      <td>USC00225247</td>\n",
              "      <td>LOUISVILLE, MS US</td>\n",
              "      <td>0.00</td>\n",
              "      <td>0.0</td>\n",
              "      <td>63.0</td>\n",
              "      <td>35.0</td>\n",
              "      <td>1</td>\n",
              "    </tr>\n",
              "    <tr>\n",
              "      <th>...</th>\n",
              "      <td>...</td>\n",
              "      <td>...</td>\n",
              "      <td>...</td>\n",
              "      <td>...</td>\n",
              "      <td>...</td>\n",
              "      <td>...</td>\n",
              "      <td>...</td>\n",
              "      <td>...</td>\n",
              "      <td>...</td>\n",
              "      <td>...</td>\n",
              "      <td>...</td>\n",
              "    </tr>\n",
              "    <tr>\n",
              "      <th>30018</th>\n",
              "      <td>02481880</td>\n",
              "      <td>2021-04-26</td>\n",
              "      <td>11.93</td>\n",
              "      <td>1000.0</td>\n",
              "      <td>US1MSWN0009</td>\n",
              "      <td>LOUISVILLE 8.6 SSE, MS US</td>\n",
              "      <td>0.00</td>\n",
              "      <td>0.0</td>\n",
              "      <td>NaN</td>\n",
              "      <td>NaN</td>\n",
              "      <td>116</td>\n",
              "    </tr>\n",
              "    <tr>\n",
              "      <th>30019</th>\n",
              "      <td>02481880</td>\n",
              "      <td>2021-04-27</td>\n",
              "      <td>12.25</td>\n",
              "      <td>1100.0</td>\n",
              "      <td>US1MSWN0009</td>\n",
              "      <td>LOUISVILLE 8.6 SSE, MS US</td>\n",
              "      <td>0.00</td>\n",
              "      <td>0.0</td>\n",
              "      <td>NaN</td>\n",
              "      <td>NaN</td>\n",
              "      <td>117</td>\n",
              "    </tr>\n",
              "    <tr>\n",
              "      <th>30020</th>\n",
              "      <td>02481880</td>\n",
              "      <td>2021-04-28</td>\n",
              "      <td>11.93</td>\n",
              "      <td>1000.0</td>\n",
              "      <td>US1MSWN0009</td>\n",
              "      <td>LOUISVILLE 8.6 SSE, MS US</td>\n",
              "      <td>0.00</td>\n",
              "      <td>0.0</td>\n",
              "      <td>NaN</td>\n",
              "      <td>NaN</td>\n",
              "      <td>118</td>\n",
              "    </tr>\n",
              "    <tr>\n",
              "      <th>30021</th>\n",
              "      <td>02481880</td>\n",
              "      <td>2021-04-29</td>\n",
              "      <td>11.73</td>\n",
              "      <td>947.0</td>\n",
              "      <td>US1MSWN0009</td>\n",
              "      <td>LOUISVILLE 8.6 SSE, MS US</td>\n",
              "      <td>0.00</td>\n",
              "      <td>0.0</td>\n",
              "      <td>NaN</td>\n",
              "      <td>NaN</td>\n",
              "      <td>119</td>\n",
              "    </tr>\n",
              "    <tr>\n",
              "      <th>30022</th>\n",
              "      <td>02481880</td>\n",
              "      <td>2021-04-30</td>\n",
              "      <td>11.43</td>\n",
              "      <td>867.0</td>\n",
              "      <td>US1MSWN0009</td>\n",
              "      <td>LOUISVILLE 8.6 SSE, MS US</td>\n",
              "      <td>0.01</td>\n",
              "      <td>0.0</td>\n",
              "      <td>NaN</td>\n",
              "      <td>NaN</td>\n",
              "      <td>120</td>\n",
              "    </tr>\n",
              "  </tbody>\n",
              "</table>\n",
              "<p>30023 rows × 11 columns</p>\n",
              "</div>"
            ],
            "text/plain": [
              "        site_no   datetime   GAGE   DISCH  ... SNOW  TMAX  TMIN  DAY_OF_YEAR\n",
              "0      02481880 1980-12-30    NaN   103.0  ...  0.0  61.0  33.0          365\n",
              "1      02481880 1980-12-30    NaN   103.0  ...  0.0   NaN   NaN          365\n",
              "2      02481880 1980-12-31    NaN   101.0  ...  0.0  48.0  28.0          366\n",
              "3      02481880 1980-12-31    NaN   101.0  ...  0.0   NaN   NaN          366\n",
              "4      02481880 1981-01-01    NaN    95.0  ...  0.0  63.0  35.0            1\n",
              "...         ...        ...    ...     ...  ...  ...   ...   ...          ...\n",
              "30018  02481880 2021-04-26  11.93  1000.0  ...  0.0   NaN   NaN          116\n",
              "30019  02481880 2021-04-27  12.25  1100.0  ...  0.0   NaN   NaN          117\n",
              "30020  02481880 2021-04-28  11.93  1000.0  ...  0.0   NaN   NaN          118\n",
              "30021  02481880 2021-04-29  11.73   947.0  ...  0.0   NaN   NaN          119\n",
              "30022  02481880 2021-04-30  11.43   867.0  ...  0.0   NaN   NaN          120\n",
              "\n",
              "[30023 rows x 11 columns]"
            ]
          },
          "metadata": {
            "tags": []
          },
          "execution_count": 16
        }
      ]
    },
    {
      "cell_type": "code",
      "metadata": {
        "colab": {
          "base_uri": "https://localhost:8080/",
          "height": 350
        },
        "id": "C0x9oZsehTch",
        "outputId": "5cc473c5-f9c1-48dd-c025-7e1911a56590"
      },
      "source": [
        "fig, ax = plt.subplots(figsize=(5,5))\n",
        "\n",
        "ax.plot(train_df['datetime'], train_df['DISCH'], label='Training Set')\n",
        "ax.plot(test_df['datetime'], test_df['DISCH'], label='Testing Set')\n",
        "\n",
        "ax.set(xlabel='Year',\n",
        "       ylabel='Streamflow - cfs',\n",
        "       title='Training and Testing Sets')\n",
        "ax.legend()\n",
        "plt.grid()\n",
        "plt.show()"
      ],
      "execution_count": null,
      "outputs": [
        {
          "output_type": "display_data",
          "data": {
            "image/png": "[encoded data removed]",
            "text/plain": [
              "<Figure size 360x360 with 1 Axes>"
            ]
          },
          "metadata": {
            "tags": []
          }
        }
      ]
    },
    {
      "cell_type": "markdown",
      "metadata": {
        "id": "m8Lpr9LKHnoW"
      },
      "source": [
        "## Data Visualization"
      ]
    },
    {
      "cell_type": "markdown",
      "metadata": {
        "id": "3rwTaWD2ODHC"
      },
      "source": [
        "### Visualizing USGS Data"
      ]
    },
    {
      "cell_type": "markdown",
      "metadata": {
        "id": "us71UtJlSXEe"
      },
      "source": [
        "Setting Datetime as Index\n"
      ]
    },
    {
      "cell_type": "code",
      "metadata": {
        "id": "MQQmDZMUKHVw"
      },
      "source": [
        "newdf = newdf.set_index('datetime')\n",
        "train_df = train_df.set_index('datetime')\n",
        "test_df = test_df.set_index('datetime')"
      ],
      "execution_count": null,
      "outputs": []
    },
    {
      "cell_type": "markdown",
      "metadata": {
        "id": "o72kOF7vYOQ3"
      },
      "source": [
        "#### Gage Height Timeseries"
      ]
    },
    {
      "cell_type": "code",
      "metadata": {
        "colab": {
          "base_uri": "https://localhost:8080/",
          "height": 350
        },
        "id": "ZaZXoRfKOGbq",
        "outputId": "72793194-8672-4b6f-a530-defb4fe12960"
      },
      "source": [
        "fig, ax = plt.subplots(figsize=(5,5))\n",
        "\n",
        "ax.plot(newdf.index.values, newdf['GAGE'])\n",
        "plt.axhline(y = stage, color = 'r', linestyle = '-', label='Flood Stage')\n",
        "\n",
        "ax.set(xlabel='Year',\n",
        "       ylabel='Gage Height - m',\n",
        "       title='Gage Height Timeseries')\n",
        "ax.legend()\n",
        "plt.grid()\n",
        "plt.show()"
      ],
      "execution_count": null,
      "outputs": [
        {
          "output_type": "display_data",
          "data": {
            "image/png": "[encoded data removed]",
            "text/plain": [
              "<Figure size 360x360 with 1 Axes>"
            ]
          },
          "metadata": {
            "tags": []
          }
        }
      ]
    },
    {
      "cell_type": "markdown",
      "metadata": {
        "id": "V76Q_zQSYeuZ"
      },
      "source": [
        "#### Discharge Timeseries"
      ]
    },
    {
      "cell_type": "code",
      "metadata": {
        "colab": {
          "base_uri": "https://localhost:8080/",
          "height": 350
        },
        "id": "-xhrcjIzYjiD",
        "outputId": "a4b92d62-7099-4597-a64d-24424020ddac"
      },
      "source": [
        "fig, ax = plt.subplots(figsize=(5,5))\n",
        "\n",
        "ax.plot(newdf.index.values, newdf['DISCH'])\n",
        "#plt.fill_between(newdf.index.values, newdf['DISCHMIN'], newdf['DISCHMAX'],\n",
        "                # color='gray', alpha=0.7)\n",
        "\n",
        "ax.set(xlabel='Year',\n",
        "       ylabel='Discharge - cfs',\n",
        "       title='Discharge Height Timeseries')\n",
        "plt.grid()\n",
        "plt.show()"
      ],
      "execution_count": null,
      "outputs": [
        {
          "output_type": "display_data",
          "data": {
            "image/png": "[encoded data removed]",
            "text/plain": [
              "<Figure size 360x360 with 1 Axes>"
            ]
          },
          "metadata": {
            "tags": []
          }
        }
      ]
    },
    {
      "cell_type": "markdown",
      "metadata": {
        "id": "U0CaLQtqp1SE"
      },
      "source": [
        "#### Precipitation Timeseries"
      ]
    },
    {
      "cell_type": "code",
      "metadata": {
        "colab": {
          "base_uri": "https://localhost:8080/",
          "height": 350
        },
        "id": "XJ1rWIrRp5ae",
        "outputId": "8a90323e-f916-4a09-a4c8-4f6e4e2bc701"
      },
      "source": [
        "fig, ax = plt.subplots(figsize=(5,5))\n",
        "\n",
        "ax.plot(newdf.index.values, newdf['PRCP'], label='Precipitation')\n",
        "ax.plot(newdf.index.values, newdf['SNOW'], label='Snow')\n",
        "\n",
        "ax.set(xlabel='Year',\n",
        "       ylabel='Head - in',\n",
        "       title='Precipitation Timeseries')\n",
        "ax.legend()\n",
        "plt.grid()\n",
        "plt.show()"
      ],
      "execution_count": null,
      "outputs": [
        {
          "output_type": "display_data",
          "data": {
            "image/png": "[encoded data removed]",
            "text/plain": [
              "<Figure size 360x360 with 1 Axes>"
            ]
          },
          "metadata": {
            "tags": []
          }
        }
      ]
    },
    {
      "cell_type": "markdown",
      "metadata": {
        "id": "EsBoe3qlyWXS"
      },
      "source": [
        "# Model Training and Height Prediction"
      ]
    },
    {
      "cell_type": "code",
      "metadata": {
        "colab": {
          "base_uri": "https://localhost:8080/"
        },
        "id": "wuEb3x9VyWAq",
        "outputId": "e5d26788-c9ef-4e5e-de63-65ded8e11af0"
      },
      "source": [
        "mean = newdf['DISCH'].mean()\n",
        "mean"
      ],
      "execution_count": null,
      "outputs": [
        {
          "output_type": "execute_result",
          "data": {
            "text/plain": [
              "642.1571567032684"
            ]
          },
          "metadata": {
            "tags": []
          },
          "execution_count": 22
        }
      ]
    },
    {
      "cell_type": "markdown",
      "metadata": {
        "id": "hyGX_dmjUArN"
      },
      "source": [
        "Evaluating Visualization"
      ]
    },
    {
      "cell_type": "code",
      "metadata": {
        "colab": {
          "base_uri": "https://localhost:8080/",
          "height": 404
        },
        "id": "_q9aiqLPP7_E",
        "outputId": "be1b3941-31da-4233-9846-a767831e9fb8"
      },
      "source": [
        "features = ['PRCP', 'DAY_OF_YEAR', 'SNOW', 'TMAX', 'TMIN']\n",
        "target = 'DISCH'\n",
        "\n",
        "fig, ax = plt.subplots(figsize=(12, 6))\n",
        "ax.scatter(train_df['PRCP'], \n",
        "           train_df['DISCH'],)\n",
        "ax.set(xlabel='Precipitation',\n",
        "       ylabel='Discharge',\n",
        "       title=\"Precipitation to Discharge Relationship\")\n",
        "plt.grid()\n",
        "plt.show()"
      ],
      "execution_count": null,
      "outputs": [
        {
          "output_type": "display_data",
          "data": {
            "image/png": "[encoded data removed]",
            "text/plain": [
              "<Figure size 864x432 with 1 Axes>"
            ]
          },
          "metadata": {
            "tags": []
          }
        }
      ]
    },
    {
      "cell_type": "code",
      "metadata": {
        "colab": {
          "base_uri": "https://localhost:8080/",
          "height": 404
        },
        "id": "YM2rE_HS0e7p",
        "outputId": "edff11e0-1c3f-4f68-f289-b21fc9ac923f"
      },
      "source": [
        "fig, ax = plt.subplots(figsize=(12, 6))\n",
        "ax.scatter(train_df['DISCH'], \n",
        "           train_df['GAGE'],)\n",
        "ax.set(xlabel='Discharge - cfs',\n",
        "       ylabel='Gage Height - ft',\n",
        "       title=\"Discharge to Gage Height Relationship\")\n",
        "plt.grid()\n",
        "plt.show()"
      ],
      "execution_count": null,
      "outputs": [
        {
          "output_type": "display_data",
          "data": {
            "image/png": "[encoded data removed]",
            "text/plain": [
              "<Figure size 864x432 with 1 Axes>"
            ]
          },
          "metadata": {
            "tags": []
          }
        }
      ]
    },
    {
      "cell_type": "markdown",
      "metadata": {
        "id": "BEHf5I4UYwGA"
      },
      "source": [
        "## Linear Regression"
      ]
    },
    {
      "cell_type": "code",
      "metadata": {
        "id": "xliLcWB-UDEO"
      },
      "source": [
        "from sklearn.impute import SimpleImputer\n",
        "imputer = SimpleImputer()\n",
        "\n",
        "x_train = train_df[features]\n",
        "y_train = train_df[target]\n",
        "\n",
        "x_gage_tr = train_df['DISCH']\n",
        "y_gage_tr = train_df['GAGE']\n",
        "\n",
        "x_test = test_df[features]\n",
        "y_test = test_df[target]\n",
        "\n",
        "x_gtest = test_df['DISCH']\n",
        "y_gtest = test_df['GAGE']\n",
        "\n",
        "\n"
      ],
      "execution_count": null,
      "outputs": []
    },
    {
      "cell_type": "code",
      "metadata": {
        "id": "h3fiTSxsbL_7"
      },
      "source": [
        "x_test = imputer.fit_transform(x_test)\n",
        "x_train = imputer.fit_transform(x_train)\n",
        "y_test  = (y_test.values).reshape(len(y_test), 1)\n",
        "y_test = imputer.fit_transform(y_test)\n",
        "\n",
        "x_gage_tr  = (x_gage_tr.values).reshape(len(x_gage_tr), 1)\n",
        "y_gage_tr  = (y_gage_tr.values).reshape(len(y_gage_tr), 1)\n",
        "x_gtest  = (x_gtest.values).reshape(len(x_gtest), 1)\n",
        "\n",
        "x_gage_tr = imputer.fit_transform(x_gage_tr)\n",
        "y_gage_tr = imputer.fit_transform(y_gage_tr)\n",
        "x_gtest = imputer.fit_transform(x_gtest)\n",
        "#x_train[np.isnan(x_train)] = np.median(x_train[~np.isnan(x_train)]) \n",
        "#x_test[np.isnan(x_test)] = np.median(x_test[~np.isnan(x_test)])\n",
        "#x_test.dropna(how='all')\n",
        "#x_test = x_test.reset_index(drop=True)\n",
        "\n",
        "#y_train[np.isnan(y_train)] = np.median(y_train[~np.isnan(y_train)])\n",
        "#y_test[np.isnan(y_test)] = np.median(y_test[~np.isnan(y_test)])\n",
        "#print(np.isnan(x_test).any())\n",
        "#x_train"
      ],
      "execution_count": null,
      "outputs": []
    },
    {
      "cell_type": "code",
      "metadata": {
        "colab": {
          "base_uri": "https://localhost:8080/"
        },
        "id": "Yizbhs25a3Cr",
        "outputId": "05a46f08-0335-4925-e602-387f762d5ec2"
      },
      "source": [
        "x_test.shape"
      ],
      "execution_count": null,
      "outputs": [
        {
          "output_type": "execute_result",
          "data": {
            "text/plain": [
              "(4122, 5)"
            ]
          },
          "metadata": {
            "tags": []
          },
          "execution_count": 27
        }
      ]
    },
    {
      "cell_type": "code",
      "metadata": {
        "id": "GiPK5kQ9UlWG"
      },
      "source": [
        "linear_model = LinearRegression()\n",
        "linear_model.fit(x_train, y_train)\n",
        "prediction = linear_model.predict(x_test)"
      ],
      "execution_count": null,
      "outputs": []
    },
    {
      "cell_type": "code",
      "metadata": {
        "id": "eq1dgct3m0cR"
      },
      "source": [
        "mae_linear = mean_absolute_error(y_test, prediction)\n",
        "r2_linear = r2_score(y_test, prediction)"
      ],
      "execution_count": null,
      "outputs": []
    },
    {
      "cell_type": "code",
      "metadata": {
        "colab": {
          "base_uri": "https://localhost:8080/",
          "height": 404
        },
        "id": "8wphWHvcVnrZ",
        "outputId": "0426dc14-15ed-4c89-f3b2-b44cd079cab2"
      },
      "source": [
        "fig, ax = plt.subplots(figsize=(6,6))\n",
        "\n",
        "ax.plot(test_df.index.values, y_test, label='Test Data')\n",
        "ax.plot(test_df.index.values, prediction, label='Model Prediction')\n",
        "ax.set(xlabel='Year',\n",
        "       ylabel='Discharge',\n",
        "       title='Test vs Prediction')\n",
        "plt.legend()\n",
        "plt.grid()\n",
        "plt.show()"
      ],
      "execution_count": null,
      "outputs": [
        {
          "output_type": "display_data",
          "data": {
            "image/png": "[encoded data removed]",
            "text/plain": [
              "<Figure size 432x432 with 1 Axes>"
            ]
          },
          "metadata": {
            "tags": []
          }
        }
      ]
    },
    {
      "cell_type": "markdown",
      "metadata": {
        "id": "ZnkoP_y2Y0XZ"
      },
      "source": [
        "##Polynomial Regression"
      ]
    },
    {
      "cell_type": "code",
      "metadata": {
        "id": "g1H6nPsxZ951"
      },
      "source": [
        "def PolynomialRegression(degree=2, **kwargs):\n",
        "    return make_pipeline(PolynomialFeatures(degree),\n",
        "                         LinearRegression(**kwargs))\n",
        "\n",
        "poly_model = PolynomialRegression(2)\n",
        "poly_model.fit(x_train, y_train)\n",
        "poly_predic = poly_model.predict(x_test)"
      ],
      "execution_count": null,
      "outputs": []
    },
    {
      "cell_type": "code",
      "metadata": {
        "id": "5ANSssWOnXrZ"
      },
      "source": [
        "mae_poly = mean_absolute_error(y_test, poly_predic)\n",
        "r2_poly = r2_score(y_test, poly_predic)"
      ],
      "execution_count": null,
      "outputs": []
    },
    {
      "cell_type": "code",
      "metadata": {
        "colab": {
          "base_uri": "https://localhost:8080/",
          "height": 350
        },
        "id": "6xWXWTiOawhT",
        "outputId": "a27abe95-90e7-4f92-b7fa-7931bd41924d"
      },
      "source": [
        "fig, ax = plt.subplots(figsize=(5,5))\n",
        "\n",
        "ax.plot(test_df.index.values, y_test, label='Test Data')\n",
        "ax.plot(test_df.index.values, poly_predic, label='Model Prediction')\n",
        "ax.set(xlabel='Year',\n",
        "       ylabel='Discharge',\n",
        "       title='Test vs Prediction')\n",
        "plt.legend()\n",
        "plt.grid()\n",
        "plt.show()"
      ],
      "execution_count": null,
      "outputs": [
        {
          "output_type": "display_data",
          "data": {
            "image/png": "[encoded data removed]",
            "text/plain": [
              "<Figure size 360x360 with 1 Axes>"
            ]
          },
          "metadata": {
            "tags": []
          }
        }
      ]
    },
    {
      "cell_type": "markdown",
      "metadata": {
        "id": "hDCy5z_YcZ3H"
      },
      "source": [
        "## Random Forest"
      ]
    },
    {
      "cell_type": "code",
      "metadata": {
        "id": "lzJl87o7cfKo"
      },
      "source": [
        "sc = StandardScaler()\n",
        "x_train_sc = sc.fit_transform(x_train)\n",
        "x_test_sc = sc.transform(x_test)"
      ],
      "execution_count": null,
      "outputs": []
    },
    {
      "cell_type": "markdown",
      "metadata": {
        "id": "_fqHNFNu010b"
      },
      "source": [
        "Some Hyperparameter Tuning using GridSearch"
      ]
    },
    {
      "cell_type": "code",
      "metadata": {
        "colab": {
          "background_save": true,
          "base_uri": "https://localhost:8080/"
        },
        "id": "4W1z7IBw0zGU",
        "outputId": "5cf96da2-91f9-447e-c593-b0da94abf030"
      },
      "source": [
        "from sklearn.model_selection import cross_val_score\n",
        "model = ensemble.RandomForestRegressor()\n",
        "parameters = [{'n_estimators':[100, 250, 750],\n",
        "              'max_depth':[2.5, 5,10,25],\n",
        "              'random_state':[5,10,25, 50]}]\n",
        "grid_search = GridSearchCV(estimator=model, param_grid=parameters, cv=10, n_jobs=-1)\n",
        "grid = grid_search.fit(x_train, y_train)\n",
        "grid.best_score_"
      ],
      "execution_count": null,
      "outputs": [
        {
          "output_type": "stream",
          "text": [
            "/usr/local/lib/python3.7/dist-packages/joblib/externals/loky/process_executor.py:691: UserWarning: A worker stopped while some jobs were given to the executor. This can be caused by a too short worker timeout or by a memory leak.\n",
            "  \"timeout or by a memory leak.\", UserWarning\n"
          ],
          "name": "stderr"
        },
        {
          "output_type": "execute_result",
          "data": {
            "text/plain": [
              "0.10494428548842039"
            ]
          },
          "metadata": {
            "tags": []
          },
          "execution_count": 0
        }
      ]
    },
    {
      "cell_type": "code",
      "metadata": {
        "colab": {
          "base_uri": "https://localhost:8080/"
        },
        "id": "hsB3YUG0uirH",
        "outputId": "fb1e9074-4dd6-4b18-d8e9-afa2eebaa2ec"
      },
      "source": [
        "grid.best_params_"
      ],
      "execution_count": null,
      "outputs": [
        {
          "output_type": "execute_result",
          "data": {
            "text/plain": [
              "{'max_depth': 5, 'n_estimators': 100, 'random_state': 10}"
            ]
          },
          "metadata": {
            "tags": []
          },
          "execution_count": 36
        }
      ]
    },
    {
      "cell_type": "code",
      "metadata": {
        "id": "nXk0T8T8dDlu"
      },
      "source": [
        "regressor = RandomForestRegressor(n_estimators=1000, random_state=75, max_depth=50, min_samples_leaf=5)\n",
        "regressor.fit(x_train_sc, y_train)\n",
        "random_predic = regressor.predict(x_test_sc)"
      ],
      "execution_count": null,
      "outputs": []
    },
    {
      "cell_type": "code",
      "metadata": {
        "id": "uzWa8fIlncym"
      },
      "source": [
        "mae_random_forest = mean_absolute_error(y_test, random_predic)\n",
        "r2_random_forest = r2_score(y_test, random_predic)"
      ],
      "execution_count": null,
      "outputs": []
    },
    {
      "cell_type": "code",
      "metadata": {
        "colab": {
          "base_uri": "https://localhost:8080/",
          "height": 404
        },
        "id": "u6nUlkeceF8s",
        "outputId": "2c65be96-aad3-4da8-ea74-ac0ea9ac88a2"
      },
      "source": [
        "fig, ax = plt.subplots(figsize=(6,6))\n",
        "\n",
        "ax.plot(test_df.index.values, y_test, label='Test Data')\n",
        "ax.plot(test_df.index.values, random_predic, label='Model Prediction', alpha=0.7)\n",
        "ax.set(xlabel='Year',\n",
        "       ylabel='Discharge',\n",
        "       title='Test vs Prediction')\n",
        "plt.legend()\n",
        "plt.grid()\n",
        "plt.show()"
      ],
      "execution_count": null,
      "outputs": [
        {
          "output_type": "display_data",
          "data": {
            "image/png": "[encoded data removed]",
            "text/plain": [
              "<Figure size 432x432 with 1 Axes>"
            ]
          },
          "metadata": {
            "tags": []
          }
        }
      ]
    },
    {
      "cell_type": "code",
      "metadata": {
        "colab": {
          "base_uri": "https://localhost:8080/"
        },
        "id": "Kflwvm2R1MIZ",
        "outputId": "3e09141c-93b9-48b1-e379-02adabdce45d"
      },
      "source": [
        "regressor = RandomForestRegressor(n_estimators=1000, random_state=75, max_depth=50, min_samples_leaf=5)\n",
        "regressor.fit(x_gage_tr, y_gage_tr)\n",
        "random_predic  = (random_predic).reshape(len(random_predic), 1)\n",
        "gage_predic = regressor.predict(random_predic)"
      ],
      "execution_count": null,
      "outputs": [
        {
          "output_type": "stream",
          "text": [
            "/usr/local/lib/python3.7/dist-packages/ipykernel_launcher.py:2: DataConversionWarning: A column-vector y was passed when a 1d array was expected. Please change the shape of y to (n_samples,), for example using ravel().\n",
            "  \n"
          ],
          "name": "stderr"
        }
      ]
    },
    {
      "cell_type": "code",
      "metadata": {
        "colab": {
          "base_uri": "https://localhost:8080/",
          "height": 404
        },
        "id": "qdsLMn5v2O7-",
        "outputId": "a299df4b-56db-4e64-c611-5e9a3525acaf"
      },
      "source": [
        "fig, ax = plt.subplots(figsize=(6,6))\n",
        "\n",
        "ax.plot(test_df.index.values, y_gtest, label='Test Data')\n",
        "ax.plot(test_df.index.values, gage_predic, label='Model Prediction', alpha=0.7)\n",
        "plt.axhline(y = stage, color = 'r', linestyle = '-', label='Flood Stage')\n",
        "ax.set(xlabel='Year',\n",
        "       ylabel='Gage Height',\n",
        "       title='Test vs Prediction')\n",
        "plt.legend()\n",
        "plt.grid()\n",
        "plt.show()"
      ],
      "execution_count": null,
      "outputs": [
        {
          "output_type": "display_data",
          "data": {
            "image/png": "[encoded data removed]",
            "text/plain": [
              "<Figure size 432x432 with 1 Axes>"
            ]
          },
          "metadata": {
            "tags": []
          }
        }
      ]
    },
    {
      "cell_type": "markdown",
      "metadata": {
        "id": "V9GnBrBEMPUU"
      },
      "source": [
        "## Validation and Scoring"
      ]
    },
    {
      "cell_type": "code",
      "metadata": {
        "colab": {
          "base_uri": "https://localhost:8080/",
          "height": 137
        },
        "id": "EPUFpLz-l1v-",
        "outputId": "c6ef5e84-a1bf-411c-845d-9a023dd0c829"
      },
      "source": [
        "model_validation = {'Model Type': ['Linear Regression', 'Polynomial Regression (3)', 'Random Forest'], \n",
        "                       'MAE': [mae_linear, mae_poly, mae_random_forest], \n",
        "                       'R^2':[r2_linear, r2_poly, r2_random_forest]}\n",
        "\n",
        "validation_df = pd.DataFrame(model_validation)\n",
        "validation_df"
      ],
      "execution_count": null,
      "outputs": [
        {
          "output_type": "execute_result",
          "data": {
            "text/html": [
              "<div>\n",
              "<style scoped>\n",
              "    .dataframe tbody tr th:only-of-type {\n",
              "        vertical-align: middle;\n",
              "    }\n",
              "\n",
              "    .dataframe tbody tr th {\n",
              "        vertical-align: top;\n",
              "    }\n",
              "\n",
              "    .dataframe thead th {\n",
              "        text-align: right;\n",
              "    }\n",
              "</style>\n",
              "<table border=\"1\" class=\"dataframe\">\n",
              "  <thead>\n",
              "    <tr style=\"text-align: right;\">\n",
              "      <th></th>\n",
              "      <th>Model Type</th>\n",
              "      <th>MAE</th>\n",
              "      <th>R^2</th>\n",
              "    </tr>\n",
              "  </thead>\n",
              "  <tbody>\n",
              "    <tr>\n",
              "      <th>0</th>\n",
              "      <td>Linear Regression</td>\n",
              "      <td>678.522878</td>\n",
              "      <td>0.082379</td>\n",
              "    </tr>\n",
              "    <tr>\n",
              "      <th>1</th>\n",
              "      <td>Polynomial Regression (3)</td>\n",
              "      <td>661.002618</td>\n",
              "      <td>0.126096</td>\n",
              "    </tr>\n",
              "    <tr>\n",
              "      <th>2</th>\n",
              "      <td>Random Forest</td>\n",
              "      <td>647.423986</td>\n",
              "      <td>0.108093</td>\n",
              "    </tr>\n",
              "  </tbody>\n",
              "</table>\n",
              "</div>"
            ],
            "text/plain": [
              "                  Model Type         MAE       R^2\n",
              "0          Linear Regression  678.522878  0.082379\n",
              "1  Polynomial Regression (3)  661.002618  0.126096\n",
              "2              Random Forest  647.423986  0.108093"
            ]
          },
          "metadata": {
            "tags": []
          },
          "execution_count": 42
        }
      ]
    }
  ]
}